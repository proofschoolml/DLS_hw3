{
  "cells": [
    {
      "cell_type": "markdown",
      "metadata": {
        "id": "view-in-github",
        "colab_type": "text"
      },
      "source": [
        "<a href=\"https://colab.research.google.com/github/proofschoolml/DLS_hw3/blob/main/Copy_of_hw3.ipynb\" target=\"_parent\"><img src=\"https://colab.research.google.com/assets/colab-badge.svg\" alt=\"Open In Colab\"/></a>"
      ]
    },
    {
      "cell_type": "markdown",
      "metadata": {
        "id": "b38216e2"
      },
      "source": [
        "# Homework 3: Building an NDArray library\n",
        "\n",
        "In this homework, you will build a simple backing library for the processing that underlies most deep learning systems: the n-dimensional array (a.k.a. the NDArray).  Up until now, you have largely been using numpy for this purpose, but this homework will walk you through developing what amounts to your own (albeit much more limited) variant of numpy, which will support both CPU and GPU backends.  What's more, unlike numpy (and even variants like PyTorch), you won't simply call out to existing highly-optimized variants of matrix multiplication or other manipulation code, but actually write your own versions that are reasonably competitive will the highly optimized code backing these standard libraries (by some measure, i.e., \"only 2-3x slower\" ... which is a whole lot better than naive code that can easily be 100x slower).  This class will ultimately be integrated into `needle`, but for this assignment you can _only_ focus on the ndarray module, as this will be the only subject of the tests.\n",
        "\n"
      ],
      "id": "b38216e2"
    },
    {
      "cell_type": "code",
      "execution_count": 1,
      "metadata": {
        "id": "db5a484c",
        "colab": {
          "base_uri": "https://localhost:8080/"
        },
        "outputId": "8060a3cb-8083-46d8-8668-8a07e3047a08"
      },
      "outputs": [
        {
          "output_type": "stream",
          "name": "stdout",
          "text": [
            "Mounted at /content/drive\n",
            "/content/drive/MyDrive\n",
            "/content/drive/MyDrive/10714\n",
            "fatal: destination path 'hw3' already exists and is not an empty directory.\n",
            "/content/drive/MyDrive/10714/hw3\n",
            "Collecting git+https://github.com/dlsys10714/mugrade.git\n",
            "  Cloning https://github.com/dlsys10714/mugrade.git to /tmp/pip-req-build-nzv9fs4i\n",
            "  Running command git clone --filter=blob:none --quiet https://github.com/dlsys10714/mugrade.git /tmp/pip-req-build-nzv9fs4i\n",
            "  Resolved https://github.com/dlsys10714/mugrade.git to commit 656cdc2b7ad5a37e7a5347a7b0405df0acd72380\n",
            "  Preparing metadata (setup.py) ... \u001b[?25l\u001b[?25hdone\n",
            "Building wheels for collected packages: mugrade\n",
            "  Building wheel for mugrade (setup.py) ... \u001b[?25l\u001b[?25hdone\n",
            "  Created wheel for mugrade: filename=mugrade-1.2-py3-none-any.whl size=3932 sha256=cfc9ed84881b3e2cddb8585775a242218c352dcfacb88ab789ec3861692a8712\n",
            "  Stored in directory: /tmp/pip-ephem-wheel-cache-vgq78smh/wheels/8b/ba/3a/621da1207eab160c01968c5e0bd1266f505b9e3f8010376d61\n",
            "Successfully built mugrade\n",
            "Installing collected packages: mugrade\n",
            "Successfully installed mugrade-1.2\n",
            "Collecting pybind11\n",
            "  Downloading pybind11-2.11.1-py3-none-any.whl (227 kB)\n",
            "\u001b[2K     \u001b[90m━━━━━━━━━━━━━━━━━━━━━━━━━━━━━━━━━━━━━━━━\u001b[0m \u001b[32m227.7/227.7 kB\u001b[0m \u001b[31m2.0 MB/s\u001b[0m eta \u001b[36m0:00:00\u001b[0m\n",
            "\u001b[?25hInstalling collected packages: pybind11\n",
            "Successfully installed pybind11-2.11.1\n"
          ]
        }
      ],
      "source": [
        "# Code to set up the assignment\n",
        "from google.colab import drive\n",
        "drive.mount('/content/drive')\n",
        "%cd /content/drive/MyDrive/\n",
        "!mkdir -p 10714\n",
        "%cd /content/drive/MyDrive/10714\n",
        "!git clone https://github.com/dlsys10714/hw3.git\n",
        "%cd /content/drive/MyDrive/10714/hw3\n",
        "\n",
        "!pip3 install --upgrade --no-deps git+https://github.com/dlsys10714/mugrade.git\n",
        "!pip3 install pybind11"
      ],
      "id": "db5a484c"
    },
    {
      "cell_type": "markdown",
      "source": [
        "You need to run this all the time you make an update.\n",
        "\n",
        "can you make this compile only ndarry_backened_cpu.cc"
      ],
      "metadata": {
        "id": "qsMHurzKrTSG"
      },
      "id": "qsMHurzKrTSG"
    },
    {
      "cell_type": "code",
      "source": [
        "!make"
      ],
      "metadata": {
        "id": "VnWLhvp_onzT",
        "colab": {
          "base_uri": "https://localhost:8080/"
        },
        "outputId": "b1c97dc3-9d88-49b1-aae0-e17cd5e0bf4c"
      },
      "id": "VnWLhvp_onzT",
      "execution_count": null,
      "outputs": [
        {
          "output_type": "stream",
          "name": "stdout",
          "text": [
            "-- Found pybind11: /usr/local/lib/python3.10/dist-packages/pybind11/include (found version \"2.11.1\")\n",
            "-- Found cuda, building cuda backend\n",
            "Fri Jan 26 18:09:21 2024       \n",
            "+---------------------------------------------------------------------------------------+\n",
            "| NVIDIA-SMI 535.104.05             Driver Version: 535.104.05   CUDA Version: 12.2     |\n",
            "|-----------------------------------------+----------------------+----------------------+\n",
            "| GPU  Name                 Persistence-M | Bus-Id        Disp.A | Volatile Uncorr. ECC |\n",
            "| Fan  Temp   Perf          Pwr:Usage/Cap |         Memory-Usage | GPU-Util  Compute M. |\n",
            "|                                         |                      |               MIG M. |\n",
            "|=========================================+======================+======================|\n",
            "|   0  NVIDIA A100-SXM4-40GB          Off | 00000000:00:04.0 Off |                    0 |\n",
            "| N/A   29C    P0              43W / 400W |      2MiB / 40960MiB |      0%      Default |\n",
            "|                                         |                      |             Disabled |\n",
            "+-----------------------------------------+----------------------+----------------------+\n",
            "                                                                                         \n",
            "+---------------------------------------------------------------------------------------+\n",
            "| Processes:                                                                            |\n",
            "|  GPU   GI   CI        PID   Type   Process name                            GPU Memory |\n",
            "|        ID   ID                                                             Usage      |\n",
            "|=======================================================================================|\n",
            "|  No running processes found                                                           |\n",
            "+---------------------------------------------------------------------------------------+\n",
            "-- Autodetected CUDA architecture(s):  7.5\n",
            "-- Configuring done (2.2s)\n",
            "-- Generating done (3.5s)\n",
            "-- Build files have been written to: /content/drive/MyDrive/10714/hw3/build\n",
            "make[1]: Entering directory '/content/drive/MyDrive/10714/hw3/build'\n",
            "make[2]: Entering directory '/content/drive/MyDrive/10714/hw3/build'\n",
            "make[3]: Entering directory '/content/drive/MyDrive/10714/hw3/build'\n",
            "make[3]: Leaving directory '/content/drive/MyDrive/10714/hw3/build'\n",
            "make[3]: Entering directory '/content/drive/MyDrive/10714/hw3/build'\n",
            "[-25%] \u001b[32mBuilding CXX object CMakeFiles/ndarray_backend_cpu.dir/src/ndarray_backend_cpu.cc.o\u001b[0m\n",
            "\u001b[01m\u001b[K/content/drive/MyDrive/10714/hw3/src/ndarray_backend_cpu.cc:\u001b[m\u001b[K In function ‘\u001b[01m\u001b[Kvoid needle::cpu::AlignedDot(const float*, const float*, float*)\u001b[m\u001b[K’:\n",
            "\u001b[01m\u001b[K/content/drive/MyDrive/10714/hw3/src/ndarray_backend_cpu.cc:356:14:\u001b[m\u001b[K \u001b[01;31m\u001b[Kerror: \u001b[m\u001b[Krequest for member ‘\u001b[01m\u001b[Kptr\u001b[m\u001b[K’ in ‘\u001b[01m\u001b[K* out\u001b[m\u001b[K’, which is of non-class type ‘\u001b[01m\u001b[Kfloat\u001b[m\u001b[K’\n",
            "  356 |         out->\u001b[01;31m\u001b[Kptr\u001b[m\u001b[K[i * TILE + j] += a.ptr[i * TILE + k] * b.ptr[k * TILE + j];\n",
            "      |              \u001b[01;31m\u001b[K^~~\u001b[m\u001b[K\n",
            "\u001b[01m\u001b[K/content/drive/MyDrive/10714/hw3/src/ndarray_backend_cpu.cc:356:37:\u001b[m\u001b[K \u001b[01;31m\u001b[Kerror: \u001b[m\u001b[Krequest for member ‘\u001b[01m\u001b[Kptr\u001b[m\u001b[K’ in ‘\u001b[01m\u001b[Ka\u001b[m\u001b[K’, which is of non-class type ‘\u001b[01m\u001b[Kconst float* __restrict__\u001b[m\u001b[K’\n",
            "  356 |         out->ptr[i * TILE + j] += a.\u001b[01;31m\u001b[Kptr\u001b[m\u001b[K[i * TILE + k] * b.ptr[k * TILE + j];\n",
            "      |                                     \u001b[01;31m\u001b[K^~~\u001b[m\u001b[K\n",
            "\u001b[01m\u001b[K/content/drive/MyDrive/10714/hw3/src/ndarray_backend_cpu.cc:356:59:\u001b[m\u001b[K \u001b[01;31m\u001b[Kerror: \u001b[m\u001b[Krequest for member ‘\u001b[01m\u001b[Kptr\u001b[m\u001b[K’ in ‘\u001b[01m\u001b[Kb\u001b[m\u001b[K’, which is of non-class type ‘\u001b[01m\u001b[Kconst float* __restrict__\u001b[m\u001b[K’\n",
            "  356 |         out->ptr[i * TILE + j] += a.ptr[i * TILE + k] * b.\u001b[01;31m\u001b[Kptr\u001b[m\u001b[K[k * TILE + j];\n",
            "      |                                                           \u001b[01;31m\u001b[K^~~\u001b[m\u001b[K\n",
            "make[3]: *** [CMakeFiles/ndarray_backend_cpu.dir/build.make:76: CMakeFiles/ndarray_backend_cpu.dir/src/ndarray_backend_cpu.cc.o] Error 1\n",
            "make[3]: Leaving directory '/content/drive/MyDrive/10714/hw3/build'\n",
            "make[2]: *** [CMakeFiles/Makefile2:85: CMakeFiles/ndarray_backend_cpu.dir/all] Error 2\n",
            "make[2]: Leaving directory '/content/drive/MyDrive/10714/hw3/build'\n",
            "make[1]: *** [Makefile:91: all] Error 2\n",
            "make[1]: Leaving directory '/content/drive/MyDrive/10714/hw3/build'\n",
            "make: *** [Makefile:9: lib] Error 2\n"
          ]
        }
      ]
    },
    {
      "cell_type": "code",
      "execution_count": null,
      "metadata": {
        "id": "glK6Q7Ik-2cJ",
        "colab": {
          "base_uri": "https://localhost:8080/"
        },
        "outputId": "dda3444f-2c51-4642-f4d0-a3dcabc58361"
      },
      "outputs": [
        {
          "output_type": "stream",
          "name": "stdout",
          "text": [
            "env: PYTHONPATH=./python\n",
            "env: NEEDLE_BACKEND=nd\n"
          ]
        }
      ],
      "source": [
        "%set_env PYTHONPATH ./python\n",
        "%set_env NEEDLE_BACKEND nd"
      ],
      "id": "glK6Q7Ik-2cJ"
    },
    {
      "cell_type": "code",
      "execution_count": null,
      "metadata": {
        "id": "e7aadcf9"
      },
      "outputs": [],
      "source": [
        "import sys\n",
        "sys.path.append('./python')"
      ],
      "id": "e7aadcf9"
    },
    {
      "cell_type": "markdown",
      "metadata": {
        "id": "899bc262"
      },
      "source": [
        "## Getting familiar with the NDArray class\n",
        "\n",
        "As you get started with this homework, you should first familiarize yourself with the `NDArray.py` class we have provided as a starting point for the assignment.  The code is fairly brief (it's ~500 lines, but a lot of these are comments provided for the functions you'll implement).\n",
        "\n",
        "At its core, the NDArray class is a Python wrapper for handling operations on generic n-dimensional arrays.  Recall that virtually any such array will be stored internally as a vector of floating point values, i.e.,\n",
        "\n",
        "```c++\n",
        "float data[size];\n",
        "```\n",
        "\n",
        "and then the actual access to different dimensions of the array are all handled by additional fields (such as the array shape, strides, etc) that indicates how this \"flat\" array maps to n-dimensional structure.  In order to achieve any sort of reasonable speed, the \"raw\" operations (like adding, binary operations, but also more structured operations like matrix multiplication, etc), all need to be written at some level in some native language like C++ (including e.g., making CUDA calls).  But a large number of operations likes transposing, broadcasting, sub-setting of matrices, and other, can all be handled by just adjusting the high-level structure of the array, like it's strides.\n",
        "\n",
        "The philosophy behind the NDArray class is that we want _all_ the logic for handling this structure of the array to be written in Python.  Only the \"true\" low level code that actually performs the raw underlying operations on the flat vector (as well as the code to manage these flat vectors, as they might need to e.g., be allocated on GPUs), is written in C++.  The precise nature of this separation will likely start to make more sense to you as you work through the assignment, but generally speaking everything that can be done in Python, is done in Python; often e.g., at the cost of some inefficiencies ... we call `.compact()` (which copies memory) liberally in order to make the underlying C++ implementations simpler.\n",
        "\n",
        "In more detail, there are five fields within the NDArray class that you'll need to be familiar with (note that the real class member these all these fields is preceded by an underscore, e.g., `_handle`, `_strides`, etc, some of which are then exposed as a public property ... for all your code it's fine to use the internal, underscored version).\n",
        "\n",
        "1. `device` - A object of type `BackendDevice`, which is a simple wrapper that contains a link to the underlying device backend (e.g., CPU or CUDA).\n",
        "2. `handle` - A class objected that stores the underlying memory of the array.  This is allocated as a class of type `device.Array()`, though this allocation all happens in the provided code (specifically the `NDArray.make` function), and you don't need to worry about calling it yourself.\n",
        "3. `shape` - A tuple specifying the size of each dimension in the array.\n",
        "4. `strides` - A tuple specifying the strides of each dimension in the array.\n",
        "5. `offset` - An integer indicating where in the underlying `device.Array` memory the array actually starts (it's convenient to store this so we can more easily manage pointing back to existing memory, without having to track allocations).\n",
        "\n",
        "By manipulating these fields, even pure Python code can perform a lot of the needed operations on the array, such as permuting the dimensions (i.e., transposing), broadcasting, and more.  And then for the raw array manipulation calls, the `device` class has a number of methods (implemented in C++) that contains the necessary implementations.\n",
        "\n",
        "There are a few points to note:\n",
        "\n",
        "* Internally, the class can use _any_ efficient means of operating on arrays of data as a \"device\" backend.  Even, for example, a numpy array, but where instead of actually using the `numpy.ndarray` to represent the n-dimensional array, we just represent a \"flat\" 1D array in numpy, then call the relevant numpy methods to implement all the needed operators on this raw memory.  This is precisely what we do in the `ndarray_backend_numpy.py` file, which essentially provided a \"stub reference\" that just uses numpy for everything.  You can use this class to help you  better debug your own \"real\" implementations for the \"native\" CPU and GPU backends.\n",
        "* Of particular importance for many of your Python implementations will be the `NDArray.make` call:\n",
        "```python\n",
        "def make(shape, strides=None, device=None, handle=None, offset=0):\n",
        "```\n",
        "which creates a new NDArray with the given shape, strides, device, handle, and offset.  If `handle` is not specified (i.e., no pre-existing memory is referenced), then the call will allocate the needed memory, but if handle _is_ specified then no new memory is allocated, but the new NDArray points the same memory as the old one.  It is important to efficient implementations that as many of your functions as possible _don't_ allocate new memory, so you will want to use this call in many cases to accomplish this.\n",
        "* The NDArray has a `.numpy()` call that converts the array to numpy.  This is _not_ the same as the \"numpy_device\" backend: this creates an actual `numpy.ndarray` that is equivalent to the given NDArray, i.e., the same dimensions, shape, etc, though not necessarily the same strides (Pybind11 will reallocate memory for matrices that are returned in this manner, which can change the striding).\n"
      ],
      "id": "899bc262"
    },
    {
      "cell_type": "markdown",
      "metadata": {
        "id": "cc7c24db"
      },
      "source": [
        "## Part 1: Python array operations\n",
        "\n",
        "As a starting point for your class, implement the following functions in the `ndarray.py` file:\n",
        "\n",
        "- `reshape()`\n",
        "- `permute()`\n",
        "- `broadcast_to()`\n",
        "- `__getitem__()`\n",
        "\n",
        "The inputs/outputs of these functions are all described in the docstring of the function stub.  It's important to emphasize that _none_ of these functions should reallocate memory, but should instead return NDArrays that share the same memory with `self`, and just use clever manipulation of shape/strides/etc in order to obtain the necessary transformations.\n",
        "\n",
        "One thing to note is that the `__getitem__()` call, unlike numpy, will never change the number of dimensions in the array.  So e.g., for a 2D NDArray `A`, `A[2,2]` would return a still-2D with one row and one column.  And e.g. `A[:4,2]` would return a 2D NDarray with 4 rows and 1 column.\n",
        "\n",
        "You can rely on the `ndarray_backend_numpy.py` module for all the code in this section.  You can also look at the results of equivalent numpy operations (the test cases should illustrate what these are).\n",
        "\n",
        "After implementing these functions, you should pass/submit the following tests.  Note that we test all of these four functions within the test below, and you can incrementally try to pass more tests as you implement each additional function."
      ],
      "id": "cc7c24db"
    },
    {
      "cell_type": "code",
      "execution_count": null,
      "metadata": {
        "id": "835c3880",
        "colab": {
          "base_uri": "https://localhost:8080/"
        },
        "outputId": "aa1b1a10-42bf-4bda-a668-8e8940804c75"
      },
      "outputs": [
        {
          "output_type": "stream",
          "name": "stdout",
          "text": [
            "\u001b[1m======================================= test session starts ========================================\u001b[0m\n",
            "platform linux -- Python 3.10.12, pytest-7.4.4, pluggy-1.3.0 -- /usr/bin/python3\n",
            "cachedir: .pytest_cache\n",
            "rootdir: /content/drive/MyDrive/10714/hw3\n",
            "plugins: anyio-3.7.1\n",
            "collected 136 items / 126 deselected / 10 selected                                                 \u001b[0m\n",
            "\n",
            "tests/hw3/test_ndarray.py::test_permute[cpu-params0] \u001b[32mPASSED\u001b[0m\u001b[32m                                  [ 10%]\u001b[0m\n",
            "tests/hw3/test_ndarray.py::test_permute[cpu-params1] \u001b[32mPASSED\u001b[0m\u001b[32m                                  [ 20%]\u001b[0m\n",
            "tests/hw3/test_ndarray.py::test_permute[cpu-params2] \u001b[32mPASSED\u001b[0m\u001b[32m                                  [ 30%]\u001b[0m\n",
            "tests/hw3/test_ndarray.py::test_reshape[cpu-params0] \u001b[32mPASSED\u001b[0m\u001b[32m                                  [ 40%]\u001b[0m\n",
            "tests/hw3/test_ndarray.py::test_reshape[cpu-params1] \u001b[32mPASSED\u001b[0m\u001b[32m                                  [ 50%]\u001b[0m\n",
            "tests/hw3/test_ndarray.py::test_getitem[cpu-params0] \u001b[32mPASSED\u001b[0m\u001b[32m                                  [ 60%]\u001b[0m\n",
            "tests/hw3/test_ndarray.py::test_getitem[cpu-params1] \u001b[32mPASSED\u001b[0m\u001b[32m                                  [ 70%]\u001b[0m\n",
            "tests/hw3/test_ndarray.py::test_getitem[cpu-params2] \u001b[32mPASSED\u001b[0m\u001b[32m                                  [ 80%]\u001b[0m\n",
            "tests/hw3/test_ndarray.py::test_getitem[cpu-params3] \u001b[32mPASSED\u001b[0m\u001b[32m                                  [ 90%]\u001b[0m\n",
            "tests/hw3/test_ndarray.py::test_broadcast_to[cpu-params0] \u001b[32mPASSED\u001b[0m\u001b[32m                             [100%]\u001b[0m\n",
            "\n",
            "\u001b[32m================================ \u001b[32m\u001b[1m10 passed\u001b[0m, \u001b[33m126 deselected\u001b[0m\u001b[32m in 0.82s\u001b[0m\u001b[32m ================================\u001b[0m\n"
          ]
        }
      ],
      "source": [
        "!python3 -m pytest -v -k \"(permute or reshape or broadcast or getitem) and cpu and not compact\""
      ],
      "id": "835c3880"
    },
    {
      "cell_type": "code",
      "execution_count": null,
      "metadata": {
        "id": "071b3063"
      },
      "outputs": [],
      "source": [
        "!python3 -m mugrade submit \"YOUR KEY HERE\" -k \"ndarray_python_ops\""
      ],
      "id": "071b3063"
    },
    {
      "cell_type": "markdown",
      "metadata": {
        "id": "21f48d27"
      },
      "source": [
        "## Part 2: CPU Backend - Compact and setitem\n",
        "\n",
        "Implement the following functions in `ndarray_backend_cpu.cc`:\n",
        "* `Compact()`\n",
        "* `EwiseSetitem()`\n",
        "* `ScalarSetitem()`\n",
        "\n",
        "To see why these are all in the same category, let's consider the implementation of the `Compact()` function.  Recall that a matrix is considered compact if it is layed out sequentially in memory in \"row-major\" form (but really a generalization of row-many to higher dimensional arrays), i.e. with the last dimension first, followed by the second to last dimension, etc, all the way to the first.  In our implementation, we also require that the total size of allocated backend array be equal to the size of the array (i.e., the underlying array also can't have any data before or after the array data, which e.g., implies that the `.offset` field equals zero).\n",
        "\n",
        "Now let's consider, using a 3D array as a an example, of how a compact call might work.  Here `shape` and `strides` are the shape and strides of the matrix being compacted (i.e., before we have compacted it).\n",
        "\n",
        "```c++\n",
        "cnt = 0;\n",
        "for (size_t i = 0; i < shape[0]; i++)\n",
        "    for (size_t j = 0; j < shape[1]; j++)\n",
        "        for (size_t k = 0; k < shape[2]; k++)\n",
        "            out[cnt++] = in[strides[0]*i + strides[1]*j + strides[2]*k];\n",
        "```\n",
        "In other words, we're converting from a stride-based representation of the matrix to a purely sequential one.\n",
        "\n",
        "Now, the challenge in implementing `Compact()` is that you want the method to work for any number of input dimensions.  It's easy to specialize for different fixed-dimension-size arrays, but for a generic implementation, you'll want to think about how to do this same operation where you effectively want a \"variable number of for loops\".  As a hint, one way to do this is to maintain a vector of indices (of size equal to the number of dimensions), and then manually increment them in a loop (including a \"carry\" operation when any of the reaches their maximum size).\n",
        "\n",
        "However, if you get really stuck with this, you can alway use the fact that we're probably not going to ask you to deal with matrices of more than 6 dimensions (though we _will_ use 6 dimensions, for the im2col operation we discussed in class).\n",
        "\n",
        "\n",
        "#### The connection to setitem\n",
        "The setitem functionality, while seemingly quite different, is actually intimately related to `Compact()`.  `__setitem()__` is the Python function called when setting some elements of the object, i.e.,\n",
        "```python\n",
        "A[::2,4:5,9] = 0 # or = some_other_array\n",
        "```\n",
        "How would you go about implementing this?  In the `__getitem()__` call above, you already implemented a method to take a subset of a matrix without copying (but just modifying strides).  But how would you actually go about _setting_ elements of this array?  In virtually all the other settings in this homework, we call `.compact()` before setting items in an output array, but in this case it doesn't work: calling `.compact()` would copy the subset array to some new memory, but the whole point of the `__setitem__()` call is that we want to modify existing memory.\n",
        "\n",
        "If you think about this for a while, you'll realize that the answer looks a lot like `.compact()` but in reverse.  If we want to assign a (itself already compact) right hand side matrix to a `__getitem()__` results, then we need to here like `shape` and `stride` be those fields of the _output_ matrix.  Then we could implement the setitem call as follows\n",
        "\n",
        "```c++\n",
        "cnt = 0;\n",
        "for (size_t i = 0; i < shape[0]; i++)\n",
        "    for (size_t j = 0; j < shape[1]; j++)\n",
        "        for (size_t k = 0; k < shape[2]; k++)\n",
        "            out[strides[0]*i + strides[1]*j + strides[2]*k] = in[cnt++]; // or \"= val;\"\n",
        "```\n",
        "Due to this similarity, if you implement your indexing strategy in a modular fashion, you'll be able to reuse it between the `Compact()` call and the `EwiseSetitem()` and `ScalarSetitem()` calls."
      ],
      "id": "21f48d27"
    },
    {
      "cell_type": "code",
      "execution_count": null,
      "metadata": {
        "id": "758969a1",
        "colab": {
          "base_uri": "https://localhost:8080/"
        },
        "outputId": "d8d57690-e76f-40c9-a27a-3c727a81ae41"
      },
      "outputs": [
        {
          "output_type": "stream",
          "name": "stdout",
          "text": [
            "\u001b[1m======================================= test session starts ========================================\u001b[0m\n",
            "platform linux -- Python 3.10.12, pytest-7.4.4, pluggy-1.3.0 -- /usr/bin/python3\n",
            "cachedir: .pytest_cache\n",
            "rootdir: /content/drive/MyDrive/10714/hw3\n",
            "plugins: anyio-3.7.1\n",
            "\u001b[1mcollecting ... \u001b[0mUsing needle backend\n",
            "collected 136 items / 121 deselected / 15 selected                                                 \u001b[0m\n",
            "\n",
            "tests/hw3/test_ndarray.py::test_compact[cpu-transpose] out [[ 0.0000000e+00  0.0000000e+00  0.0000000e+00  0.0000000e+00]\n",
            " [ 0.0000000e+00  0.0000000e+00  6.5034262e-42  0.0000000e+00]\n",
            " [ 1.5773547e+15  4.3272097e-41  1.5773547e+15  4.3272097e-41]\n",
            " [-1.4368272e+07  3.1048570e-41 -1.4368272e+07  3.1048570e-41]]\n",
            " \n",
            "\u001b[32mPASSED\u001b[0m\n",
            "tests/hw3/test_ndarray.py::test_compact[cpu-broadcast_to] out [[[1.42220003e-13 2.65348149e+20 1.41839800e-19 4.61140384e+24]\n",
            "  [6.73310707e+22 1.18658711e+27 1.46644078e-19 4.30561885e+21]\n",
            "  [7.02922740e+28 1.81786683e+31 1.75934200e+22 7.55535711e+28]\n",
            "  [6.86081970e+22 1.73602125e+28 7.27158967e+31 1.93673845e+31]\n",
            "  [5.56792688e+19 1.35559600e-19 1.35631564e-19 1.35631564e-19]]\n",
            "\n",
            " [[1.35631564e-19 1.84693033e+25 4.96511076e+28 1.29307910e+28]\n",
            "  [1.27125405e+31 3.43385378e-15 1.35558953e-19 1.35631564e-19]\n",
            "  [1.35631564e-19 1.44101894e-19 1.18667691e+27 9.10370043e-12]\n",
            "  [1.78579427e+31 1.93836969e+20 1.03821391e+21 5.09509393e-14]\n",
            "  [1.75892947e+22 7.31776399e+28 7.20535183e+22 2.06214304e-19]]\n",
            "\n",
            " [[1.21233120e+25 4.61142258e+24 1.35559664e-19 1.35631564e-19]\n",
            "  [1.35631564e-19 1.35631564e-19 2.02805338e-19 1.41670151e-19]\n",
            "  [1.84693033e+25 5.08427342e+31 7.36966421e+28 7.21330518e+22]\n",
            "  [2.06214304e-19 4.61140384e+24 1.21233213e+25 4.61142402e+24]\n",
            "  [2.80305818e+20 1.84924222e+20 2.31934964e-15 1.35558953e-19]]\n",
            "\n",
            " [[1.35631564e-19 1.35631564e-19 1.44101894e-19 7.03735270e+22]\n",
            "  [2.05349655e-19 9.10364058e-12 1.89904490e+28 1.14306061e+27]\n",
            "  [1.81791882e+31 8.39950958e-33 1.35631564e-19 1.35631564e-19]\n",
            "  [1.35631564e-19 7.13451634e+31 1.07658465e+21 1.65339688e+19]\n",
            "  [1.77483639e+28 1.74094329e+25 9.12034771e-12 4.84182528e+30]]]\n",
            " \n",
            "\u001b[32mPASSED\u001b[0m\n",
            "tests/hw3/test_ndarray.py::test_compact[cpu-reshape1] \u001b[32mPASSED\u001b[0m\n",
            "tests/hw3/test_ndarray.py::test_compact[cpu-reshape2] \u001b[32mPASSED\u001b[0m\n",
            "tests/hw3/test_ndarray.py::test_compact[cpu-reshape3] \u001b[32mPASSED\u001b[0m\n",
            "tests/hw3/test_ndarray.py::test_compact[cpu-getitem1] out [[ 1.5772000e+15  4.3272097e-41 -1.2954608e+07  3.1048570e-41]\n",
            " [ 9.2821437e+14  4.3272097e-41  9.2814780e+14  4.3272097e-41]\n",
            " [ 9.2821652e+14  4.3272097e-41  9.2814995e+14  4.3272097e-41]\n",
            " [ 9.2815639e+14  4.3272097e-41  9.2815210e+14  4.3272097e-41]]\n",
            " \n",
            "\u001b[32mPASSED\u001b[0m\n",
            "tests/hw3/test_ndarray.py::test_compact[cpu-getitem2] out [[[[[[9.2818646e+14]]]]\n",
            "\n",
            "\n",
            "\n",
            "  [[[[4.3272097e-41]]]]\n",
            "\n",
            "\n",
            "\n",
            "  [[[[9.2818860e+14]]]]]\n",
            "\n",
            "\n",
            "\n",
            "\n",
            " [[[[[4.3272097e-41]]]]\n",
            "\n",
            "\n",
            "\n",
            "  [[[[9.2820793e+14]]]]\n",
            "\n",
            "\n",
            "\n",
            "  [[[[4.3272097e-41]]]]]]\n",
            " \n",
            "\u001b[32mPASSED\u001b[0m\n",
            "tests/hw3/test_ndarray.py::test_compact[cpu-transposegetitem] out [[3.2252646e+12 4.3272097e-41 3.2252856e+12]\n",
            " [4.3272097e-41 7.9336529e+14 4.3272097e-41]\n",
            " [5.4948318e+12 4.3272097e-41 5.4952009e+12]\n",
            " [4.3272097e-41 8.5316841e+14 4.3272097e-41]]\n",
            " \n",
            "\u001b[32mPASSED\u001b[0m\n",
            "tests/hw3/test_ndarray.py::test_setitem_ewise[cpu-params0] out [[[7.1555375e+22]]]\n",
            " \n",
            "\u001b[32mPASSED\u001b[0m\n",
            "tests/hw3/test_ndarray.py::test_setitem_ewise[cpu-params1] out [[[9.52209e+13]]\n",
            "\n",
            " [[4.32721e-41]]]\n",
            " \n",
            "\u001b[32mPASSED\u001b[0m\n",
            "tests/hw3/test_ndarray.py::test_setitem_ewise[cpu-params2] out [[[7.4786870e+14 4.3272097e-41 8.4170514e+14 4.3272097e-41]\n",
            "  [2.4693174e-05 4.3272097e-41 1.6430693e+14 4.3272097e-41]\n",
            "  [9.7023204e+14 4.3272097e-41 5.1452796e+14 4.3272097e-41]]\n",
            "\n",
            " [[9.7033512e+14 4.3272097e-41 8.6301677e+14 4.3272097e-41]\n",
            "  [2.4693407e-05 4.3272097e-41 2.4740526e-05 4.3272097e-41]\n",
            "  [9.7034371e+14 4.3272097e-41 2.4693523e-05 4.3272097e-41]]]\n",
            " \n",
            "\u001b[32mPASSED\u001b[0m\n",
            "tests/hw3/test_ndarray.py::test_setitem_scalar[cpu-params0] (slice(1, 2, 1), slice(2, 3, 1), slice(3, 4, 1))\n",
            "\u001b[32mPASSED\u001b[0m\n",
            "tests/hw3/test_ndarray.py::test_setitem_scalar[cpu-params1] (slice(1, 4, 1), slice(2, 3, 1), slice(3, 4, 1))\n",
            "\u001b[32mPASSED\u001b[0m\n",
            "tests/hw3/test_ndarray.py::test_setitem_scalar[cpu-params2] (slice(0, 4, 1), slice(2, 5, 1), slice(3, 4, 1))\n",
            "\u001b[32mPASSED\u001b[0m\n",
            "tests/hw3/test_ndarray.py::test_setitem_scalar[cpu-params3] (slice(1, 4, 2), slice(2, 5, 1), slice(0, 6, 2))\n",
            "\u001b[32mPASSED\u001b[0m\n",
            "\n",
            "\u001b[32m================================ \u001b[32m\u001b[1m15 passed\u001b[0m, \u001b[33m121 deselected\u001b[0m\u001b[32m in 0.45s\u001b[0m\u001b[32m ================================\u001b[0m\n"
          ]
        }
      ],
      "source": [
        "!python3 -m pytest -v -s -k\"(compact or setitem) and cpu\""
      ],
      "id": "758969a1"
    },
    {
      "cell_type": "code",
      "execution_count": null,
      "metadata": {
        "id": "74c98f6c"
      },
      "outputs": [],
      "source": [
        "!python3 -m mugrade submit \"YOUR KEY HERE\" -k \"ndarray_cpu_compact_setitem\""
      ],
      "id": "74c98f6c"
    },
    {
      "cell_type": "markdown",
      "metadata": {
        "id": "9df3e8fb"
      },
      "source": [
        "## Part 3: CPU Backend - Elementwise and scalar operations\n",
        "\n",
        "Implement the following functions in `ndarray_backend_cpu.cc`:\n",
        "\n",
        "* `EwiseMul()`, `ScalarMul()`\n",
        "* `EwiseDiv()`, `ScalarDiv()`\n",
        "* `ScalarPower()`\n",
        "* `EwiseMaximum()`, `ScalarMaximum()`\n",
        "* `EwiseEq()`, `ScalarEq()`\n",
        "* `EwiseGe()`, `ScalarGe()`\n",
        "* `EwiseLog()`\n",
        "* `EwiseExp()`\n",
        "* `EwiseTanh()`\n",
        "\n",
        "You can look at the included\n",
        "`EwiseAdd()` and `ScalarAdd()` functions (plus the invocations from `NDArray` in order to understand the required format of these functions.\n",
        "\n",
        "Note that unlike the remaining functions mentioned here, we do not include function stubs for each of these functions.  This is because, while you can implement these naively just through implementing each function separately, though this will end up with a lot of duplicated code.  You're welcome to use e.g., C++ templates or macros to address this problem (but these would only be exposed internally, not to the external interface).\n",
        "\n",
        "**Note**: Remember to register functions  in the pybind module after finishing your implementations."
      ],
      "id": "9df3e8fb"
    },
    {
      "cell_type": "code",
      "execution_count": null,
      "metadata": {
        "id": "22943d08",
        "colab": {
          "base_uri": "https://localhost:8080/"
        },
        "outputId": "8b932378-e19c-4d6f-b31a-4903cdd07b93"
      },
      "outputs": [
        {
          "output_type": "stream",
          "name": "stdout",
          "text": [
            "\u001b[1m======================================= test session starts ========================================\u001b[0m\n",
            "platform linux -- Python 3.10.12, pytest-7.4.4, pluggy-1.3.0 -- /usr/bin/python3\n",
            "cachedir: .pytest_cache\n",
            "rootdir: /content/drive/MyDrive/10714/hw3\n",
            "plugins: anyio-3.7.1\n",
            "collected 136 items / 113 deselected / 23 selected                                                 \u001b[0m\n",
            "\n",
            "tests/hw3/test_ndarray.py::test_ewise_fn[cpu-shape0-multiply] \u001b[32mPASSED\u001b[0m\u001b[32m                         [  4%]\u001b[0m\n",
            "tests/hw3/test_ndarray.py::test_ewise_fn[cpu-shape0-divide] \u001b[32mPASSED\u001b[0m\u001b[32m                           [  8%]\u001b[0m\n",
            "tests/hw3/test_ndarray.py::test_ewise_fn[cpu-shape0-add] \u001b[32mPASSED\u001b[0m\u001b[32m                              [ 13%]\u001b[0m\n",
            "tests/hw3/test_ndarray.py::test_ewise_fn[cpu-shape0-subtract] \u001b[32mPASSED\u001b[0m\u001b[32m                         [ 17%]\u001b[0m\n",
            "tests/hw3/test_ndarray.py::test_ewise_fn[cpu-shape0-equal] \u001b[32mPASSED\u001b[0m\u001b[32m                            [ 21%]\u001b[0m\n",
            "tests/hw3/test_ndarray.py::test_ewise_fn[cpu-shape0-greater_than] \u001b[32mPASSED\u001b[0m\u001b[32m                     [ 26%]\u001b[0m\n",
            "tests/hw3/test_ndarray.py::test_ewise_fn[cpu-shape1-multiply] \u001b[32mPASSED\u001b[0m\u001b[32m                         [ 30%]\u001b[0m\n",
            "tests/hw3/test_ndarray.py::test_ewise_fn[cpu-shape1-divide] \u001b[32mPASSED\u001b[0m\u001b[32m                           [ 34%]\u001b[0m\n",
            "tests/hw3/test_ndarray.py::test_ewise_fn[cpu-shape1-add] \u001b[32mPASSED\u001b[0m\u001b[32m                              [ 39%]\u001b[0m\n",
            "tests/hw3/test_ndarray.py::test_ewise_fn[cpu-shape1-subtract] \u001b[32mPASSED\u001b[0m\u001b[32m                         [ 43%]\u001b[0m\n",
            "tests/hw3/test_ndarray.py::test_ewise_fn[cpu-shape1-equal] \u001b[32mPASSED\u001b[0m\u001b[32m                            [ 47%]\u001b[0m\n",
            "tests/hw3/test_ndarray.py::test_ewise_fn[cpu-shape1-greater_than] \u001b[32mPASSED\u001b[0m\u001b[32m                     [ 52%]\u001b[0m\n",
            "tests/hw3/test_ndarray.py::test_ewise_max[cpu-shape0] \u001b[32mPASSED\u001b[0m\u001b[32m                                 [ 56%]\u001b[0m\n",
            "tests/hw3/test_ndarray.py::test_ewise_max[cpu-shape1] \u001b[32mPASSED\u001b[0m\u001b[32m                                 [ 60%]\u001b[0m\n",
            "tests/hw3/test_ndarray.py::test_scalar_mul[cpu] \u001b[32mPASSED\u001b[0m\u001b[32m                                       [ 65%]\u001b[0m\n",
            "tests/hw3/test_ndarray.py::test_scalar_div[cpu] \u001b[32mPASSED\u001b[0m\u001b[32m                                       [ 69%]\u001b[0m\n",
            "tests/hw3/test_ndarray.py::test_scalar_power[cpu] \u001b[32mPASSED\u001b[0m\u001b[32m                                     [ 73%]\u001b[0m\n",
            "tests/hw3/test_ndarray.py::test_scalar_maximum[cpu] \u001b[32mPASSED\u001b[0m\u001b[33m                                   [ 78%]\u001b[0m\n",
            "tests/hw3/test_ndarray.py::test_scalar_eq[cpu] \u001b[32mPASSED\u001b[0m\u001b[33m                                        [ 82%]\u001b[0m\n",
            "tests/hw3/test_ndarray.py::test_scalar_ge[cpu] \u001b[32mPASSED\u001b[0m\u001b[33m                                        [ 86%]\u001b[0m\n",
            "tests/hw3/test_ndarray.py::test_ewise_log[cpu] \u001b[32mPASSED\u001b[0m\u001b[33m                                        [ 91%]\u001b[0m\n",
            "tests/hw3/test_ndarray.py::test_ewise_exp[cpu] \u001b[32mPASSED\u001b[0m\u001b[33m                                        [ 95%]\u001b[0m\n",
            "tests/hw3/test_ndarray.py::test_ewise_tanh[cpu] \u001b[32mPASSED\u001b[0m\u001b[33m                                       [100%]\u001b[0m\n",
            "\n",
            "\u001b[33m========================================= warnings summary =========================================\u001b[0m\n",
            "tests/hw3/test_ndarray.py::test_scalar_power[cpu]\n",
            "  /content/drive/MyDrive/10714/hw3/tests/hw3/test_ndarray.py:390: RuntimeWarning: invalid value encountered in power\n",
            "    np.power(A, 0.5), (B**0.5).numpy(), atol=1e-5, rtol=1e-5\n",
            "\n",
            "-- Docs: https://docs.pytest.org/en/stable/how-to/capture-warnings.html\n",
            "\u001b[33m========================== \u001b[32m23 passed\u001b[0m, \u001b[33m\u001b[1m113 deselected\u001b[0m, \u001b[33m\u001b[1m1 warning\u001b[0m\u001b[33m in 18.30s\u001b[0m\u001b[33m ==========================\u001b[0m\n"
          ]
        }
      ],
      "source": [
        "!python3 -m pytest -v -k \"(ewise_fn or ewise_max or log or exp or tanh or (scalar and not setitem)) and cpu\""
      ],
      "id": "22943d08"
    },
    {
      "cell_type": "markdown",
      "metadata": {
        "id": "7be9fe7c"
      },
      "source": [
        "## Part 4: CPU Backend - Reductions\n",
        "\n",
        "\n",
        "Implement the following functions in `ndarray_backend_cpu.cc`:\n",
        "\n",
        "* `ReduceMax()`\n",
        "* `ReduceSum()`\n",
        "\n",
        "In general, the reduction functions `.max()` and `.sum()` in NDArray take the max or sum across a specified axis specified by the `axis` argument (or across the entire array when `axis=None`); note that we don't support axis being a set of axes, though this wouldn't be too hard to add if you desired (but it's not in the interface you should implement for the homework).\n",
        "\n",
        "Because summing over individual axes can be a bit tricky, even for compact arrays, these functions (in Python) in Python simplify things by permuting the last axis to the be the one reduced over (this is what the `reduce_view_out()` function in NDArray does), then compacting the array.  So for your `ReduceMax()` and `ReduceSum()` functions you implement in C++, you can assume that both the input and output arrays are contiguous in memory, and you want to just reduce over contiguous elements of size `reduce_size` as passed to the C++ functions."
      ],
      "id": "7be9fe7c"
    },
    {
      "cell_type": "code",
      "execution_count": null,
      "metadata": {
        "id": "de5382b3",
        "colab": {
          "base_uri": "https://localhost:8080/"
        },
        "outputId": "02f7af15-6fa2-49c3-95da-93557d27d235"
      },
      "outputs": [
        {
          "output_type": "stream",
          "name": "stdout",
          "text": [
            "\u001b[1m======================================= test session starts ========================================\u001b[0m\n",
            "platform linux -- Python 3.10.12, pytest-7.4.4, pluggy-1.3.0 -- /usr/bin/python3\n",
            "cachedir: .pytest_cache\n",
            "rootdir: /content/drive/MyDrive/10714/hw3\n",
            "plugins: anyio-3.7.1\n",
            "collected 136 items / 128 deselected / 8 selected                                                  \u001b[0m\n",
            "\n",
            "tests/hw3/test_ndarray.py::test_reduce_sum[params0-cpu] \u001b[32mPASSED\u001b[0m\u001b[32m                               [ 12%]\u001b[0m\n",
            "tests/hw3/test_ndarray.py::test_reduce_sum[params1-cpu] \u001b[32mPASSED\u001b[0m\u001b[32m                               [ 25%]\u001b[0m\n",
            "tests/hw3/test_ndarray.py::test_reduce_sum[params2-cpu] \u001b[32mPASSED\u001b[0m\u001b[32m                               [ 37%]\u001b[0m\n",
            "tests/hw3/test_ndarray.py::test_reduce_sum[params3-cpu] \u001b[32mPASSED\u001b[0m\u001b[32m                               [ 50%]\u001b[0m\n",
            "tests/hw3/test_ndarray.py::test_reduce_max[params0-cpu] \u001b[32mPASSED\u001b[0m\u001b[32m                               [ 62%]\u001b[0m\n",
            "tests/hw3/test_ndarray.py::test_reduce_max[params1-cpu] \u001b[32mPASSED\u001b[0m\u001b[32m                               [ 75%]\u001b[0m\n",
            "tests/hw3/test_ndarray.py::test_reduce_max[params2-cpu] \u001b[32mPASSED\u001b[0m\u001b[32m                               [ 87%]\u001b[0m\n",
            "tests/hw3/test_ndarray.py::test_reduce_max[params3-cpu] \u001b[32mPASSED\u001b[0m\u001b[32m                               [100%]\u001b[0m\n",
            "\n",
            "\u001b[32m================================ \u001b[32m\u001b[1m8 passed\u001b[0m, \u001b[33m128 deselected\u001b[0m\u001b[32m in 0.41s\u001b[0m\u001b[32m =================================\u001b[0m\n"
          ]
        }
      ],
      "source": [
        "!python3 -m pytest -v -k \"reduce and cpu\""
      ],
      "id": "de5382b3"
    },
    {
      "cell_type": "code",
      "execution_count": null,
      "metadata": {
        "id": "a1f1f484"
      },
      "outputs": [],
      "source": [
        "!python3 -m mugrade submit \"YOUR KEY HERE\" -k \"ndarray_cpu_reductions\""
      ],
      "id": "a1f1f484"
    },
    {
      "cell_type": "markdown",
      "metadata": {
        "id": "35e1e9c0"
      },
      "source": [
        "## Part 5: CPU Backend - Matrix multiplication\n",
        "\n",
        "Implement the following functions in `ndarray_backend_cpu.cc`:\n",
        "\n",
        "* `Matmul()`\n",
        "* `MatmulTiled()`\n",
        "* `AlignedDot()`\n",
        "\n",
        "The first implementation, `Matmul()` can use the naive three-nested-for-loops algorithm for matrix multiplication.  However, the `MatmulTiled()` performs the same matrix multiplication on memory laid out in tiled form, i.e., as a contiguous 4D array\n",
        "```c++\n",
        "float[M/TILE][N/TILE][TILE][TILE];\n",
        "```\n",
        "Note that the Python `__matmul__` code already does the conversion to tiled form when all sizes of the matrix multiplication are divisible by `TILE`, so your code just needs to implement the multiplication in this form.  In order to make the methods efficient, you will want to make use of (after you implement it), the `AlignedDot()` function, which will enable the compiler to efficiently make use of vector operations and proper caching.  The output matrix will also be in the tiled form above, and the Python backend will take care of the conversion to a normal 2D array.\n",
        "\n",
        "Note that in order to get the most speedup possible from you tiled version, you may want to use the clang compiler with colab instead of gcc.  To do this, run the following command before building your code."
      ],
      "id": "35e1e9c0"
    },
    {
      "cell_type": "code",
      "source": [
        "import numpy as np\n",
        "import pytest\n",
        "import mugrade\n",
        "import needle as ndl\n",
        "from needle import backend_ndarray as nd\n",
        "\n",
        "_A = np.random.randn(100,50)\n",
        "_B = np.random.randn(50,70)\n",
        "A = nd.array(_A, device=nd.cpu())\n",
        "B = nd.array(_B, device=nd.cpu())\n",
        "\n",
        "np.testing.assert_allclose((A @ B).numpy(), _A @ _B, rtol=1e-5, atol=1e-5)\n"
      ],
      "metadata": {
        "colab": {
          "base_uri": "https://localhost:8080/",
          "height": 363
        },
        "id": "b2QgD2Yz6rEt",
        "outputId": "d365152c-41f5-44b0-bd29-353145816db4"
      },
      "id": "b2QgD2Yz6rEt",
      "execution_count": null,
      "outputs": [
        {
          "output_type": "error",
          "ename": "AttributeError",
          "evalue": "module 'needle.backend_ndarray.ndarray_backend_cpu' has no attribute 'matmul'",
          "traceback": [
            "\u001b[0;31m---------------------------------------------------------------------------\u001b[0m",
            "\u001b[0;31mAttributeError\u001b[0m                            Traceback (most recent call last)",
            "\u001b[0;32m<ipython-input-9-29e391bc7bd5>\u001b[0m in \u001b[0;36m<cell line: 12>\u001b[0;34m()\u001b[0m\n\u001b[1;32m     10\u001b[0m \u001b[0mB\u001b[0m \u001b[0;34m=\u001b[0m \u001b[0mnd\u001b[0m\u001b[0;34m.\u001b[0m\u001b[0marray\u001b[0m\u001b[0;34m(\u001b[0m\u001b[0m_B\u001b[0m\u001b[0;34m,\u001b[0m \u001b[0mdevice\u001b[0m\u001b[0;34m=\u001b[0m\u001b[0mnd\u001b[0m\u001b[0;34m.\u001b[0m\u001b[0mcpu\u001b[0m\u001b[0;34m(\u001b[0m\u001b[0;34m)\u001b[0m\u001b[0;34m)\u001b[0m\u001b[0;34m\u001b[0m\u001b[0;34m\u001b[0m\u001b[0m\n\u001b[1;32m     11\u001b[0m \u001b[0;34m\u001b[0m\u001b[0m\n\u001b[0;32m---> 12\u001b[0;31m \u001b[0mnp\u001b[0m\u001b[0;34m.\u001b[0m\u001b[0mtesting\u001b[0m\u001b[0;34m.\u001b[0m\u001b[0massert_allclose\u001b[0m\u001b[0;34m(\u001b[0m\u001b[0;34m(\u001b[0m\u001b[0mA\u001b[0m \u001b[0;34m@\u001b[0m \u001b[0mB\u001b[0m\u001b[0;34m)\u001b[0m\u001b[0;34m.\u001b[0m\u001b[0mnumpy\u001b[0m\u001b[0;34m(\u001b[0m\u001b[0;34m)\u001b[0m\u001b[0;34m,\u001b[0m \u001b[0m_A\u001b[0m \u001b[0;34m@\u001b[0m \u001b[0m_B\u001b[0m\u001b[0;34m,\u001b[0m \u001b[0mrtol\u001b[0m\u001b[0;34m=\u001b[0m\u001b[0;36m1e-5\u001b[0m\u001b[0;34m,\u001b[0m \u001b[0matol\u001b[0m\u001b[0;34m=\u001b[0m\u001b[0;36m1e-5\u001b[0m\u001b[0;34m)\u001b[0m\u001b[0;34m\u001b[0m\u001b[0;34m\u001b[0m\u001b[0m\n\u001b[0m",
            "\u001b[0;32m/content/drive/MyDrive/10714/hw3/./python/needle/backend_ndarray/ndarray.py\u001b[0m in \u001b[0;36m__matmul__\u001b[0;34m(self, other)\u001b[0m\n\u001b[1;32m    588\u001b[0m         \u001b[0;32melse\u001b[0m\u001b[0;34m:\u001b[0m\u001b[0;34m\u001b[0m\u001b[0;34m\u001b[0m\u001b[0m\n\u001b[1;32m    589\u001b[0m             \u001b[0mout\u001b[0m \u001b[0;34m=\u001b[0m \u001b[0mNDArray\u001b[0m\u001b[0;34m.\u001b[0m\u001b[0mmake\u001b[0m\u001b[0;34m(\u001b[0m\u001b[0;34m(\u001b[0m\u001b[0mm\u001b[0m\u001b[0;34m,\u001b[0m \u001b[0mp\u001b[0m\u001b[0;34m)\u001b[0m\u001b[0;34m,\u001b[0m \u001b[0mdevice\u001b[0m\u001b[0;34m=\u001b[0m\u001b[0mself\u001b[0m\u001b[0;34m.\u001b[0m\u001b[0mdevice\u001b[0m\u001b[0;34m)\u001b[0m\u001b[0;34m\u001b[0m\u001b[0;34m\u001b[0m\u001b[0m\n\u001b[0;32m--> 590\u001b[0;31m             self.device.matmul(\n\u001b[0m\u001b[1;32m    591\u001b[0m                 \u001b[0mself\u001b[0m\u001b[0;34m.\u001b[0m\u001b[0mcompact\u001b[0m\u001b[0;34m(\u001b[0m\u001b[0;34m)\u001b[0m\u001b[0;34m.\u001b[0m\u001b[0m_handle\u001b[0m\u001b[0;34m,\u001b[0m \u001b[0mother\u001b[0m\u001b[0;34m.\u001b[0m\u001b[0mcompact\u001b[0m\u001b[0;34m(\u001b[0m\u001b[0;34m)\u001b[0m\u001b[0;34m.\u001b[0m\u001b[0m_handle\u001b[0m\u001b[0;34m,\u001b[0m \u001b[0mout\u001b[0m\u001b[0;34m.\u001b[0m\u001b[0m_handle\u001b[0m\u001b[0;34m,\u001b[0m \u001b[0mm\u001b[0m\u001b[0;34m,\u001b[0m \u001b[0mn\u001b[0m\u001b[0;34m,\u001b[0m \u001b[0mp\u001b[0m\u001b[0;34m\u001b[0m\u001b[0;34m\u001b[0m\u001b[0m\n\u001b[1;32m    592\u001b[0m             )\n",
            "\u001b[0;32m/content/drive/MyDrive/10714/hw3/./python/needle/backend_ndarray/ndarray.py\u001b[0m in \u001b[0;36m__getattr__\u001b[0;34m(self, name)\u001b[0m\n\u001b[1;32m     28\u001b[0m \u001b[0;34m\u001b[0m\u001b[0m\n\u001b[1;32m     29\u001b[0m     \u001b[0;32mdef\u001b[0m \u001b[0m__getattr__\u001b[0m\u001b[0;34m(\u001b[0m\u001b[0mself\u001b[0m\u001b[0;34m,\u001b[0m \u001b[0mname\u001b[0m\u001b[0;34m)\u001b[0m\u001b[0;34m:\u001b[0m\u001b[0;34m\u001b[0m\u001b[0;34m\u001b[0m\u001b[0m\n\u001b[0;32m---> 30\u001b[0;31m         \u001b[0;32mreturn\u001b[0m \u001b[0mgetattr\u001b[0m\u001b[0;34m(\u001b[0m\u001b[0mself\u001b[0m\u001b[0;34m.\u001b[0m\u001b[0mmod\u001b[0m\u001b[0;34m,\u001b[0m \u001b[0mname\u001b[0m\u001b[0;34m)\u001b[0m\u001b[0;34m\u001b[0m\u001b[0;34m\u001b[0m\u001b[0m\n\u001b[0m\u001b[1;32m     31\u001b[0m \u001b[0;34m\u001b[0m\u001b[0m\n\u001b[1;32m     32\u001b[0m     \u001b[0;32mdef\u001b[0m \u001b[0menabled\u001b[0m\u001b[0;34m(\u001b[0m\u001b[0mself\u001b[0m\u001b[0;34m)\u001b[0m\u001b[0;34m:\u001b[0m\u001b[0;34m\u001b[0m\u001b[0;34m\u001b[0m\u001b[0m\n",
            "\u001b[0;31mAttributeError\u001b[0m: module 'needle.backend_ndarray.ndarray_backend_cpu' has no attribute 'matmul'"
          ]
        }
      ]
    },
    {
      "cell_type": "code",
      "source": [
        "!export CXX=/usr/bin/clang++ && make"
      ],
      "metadata": {
        "colab": {
          "base_uri": "https://localhost:8080/"
        },
        "id": "Z1cKepuIqFRo",
        "outputId": "575c13bb-cc8c-4a0e-e3c4-0491ca77c6ce"
      },
      "id": "Z1cKepuIqFRo",
      "execution_count": null,
      "outputs": [
        {
          "output_type": "stream",
          "name": "stdout",
          "text": [
            "-- Found pybind11: /usr/local/lib/python3.10/dist-packages/pybind11/include (found version \"2.11.1\")\n",
            "-- Found cuda, building cuda backend\n",
            "Fri Jan 26 18:09:42 2024       \n",
            "+---------------------------------------------------------------------------------------+\n",
            "| NVIDIA-SMI 535.104.05             Driver Version: 535.104.05   CUDA Version: 12.2     |\n",
            "|-----------------------------------------+----------------------+----------------------+\n",
            "| GPU  Name                 Persistence-M | Bus-Id        Disp.A | Volatile Uncorr. ECC |\n",
            "| Fan  Temp   Perf          Pwr:Usage/Cap |         Memory-Usage | GPU-Util  Compute M. |\n",
            "|                                         |                      |               MIG M. |\n",
            "|=========================================+======================+======================|\n",
            "|   0  NVIDIA A100-SXM4-40GB          Off | 00000000:00:04.0 Off |                    0 |\n",
            "| N/A   29C    P0              43W / 400W |      2MiB / 40960MiB |      0%      Default |\n",
            "|                                         |                      |             Disabled |\n",
            "+-----------------------------------------+----------------------+----------------------+\n",
            "                                                                                         \n",
            "+---------------------------------------------------------------------------------------+\n",
            "| Processes:                                                                            |\n",
            "|  GPU   GI   CI        PID   Type   Process name                            GPU Memory |\n",
            "|        ID   ID                                                             Usage      |\n",
            "|=======================================================================================|\n",
            "|  No running processes found                                                           |\n",
            "+---------------------------------------------------------------------------------------+\n",
            "-- Autodetected CUDA architecture(s):  7.5\n",
            "-- Configuring done (0.4s)\n",
            "-- Generating done (0.2s)\n",
            "-- Build files have been written to: /content/drive/MyDrive/10714/hw3/build\n",
            "make[1]: Entering directory '/content/drive/MyDrive/10714/hw3/build'\n",
            "make[2]: Entering directory '/content/drive/MyDrive/10714/hw3/build'\n",
            "make[3]: Entering directory '/content/drive/MyDrive/10714/hw3/build'\n",
            "make[3]: Leaving directory '/content/drive/MyDrive/10714/hw3/build'\n",
            "make[3]: Entering directory '/content/drive/MyDrive/10714/hw3/build'\n",
            "[-25%] \u001b[32mBuilding CXX object CMakeFiles/ndarray_backend_cpu.dir/src/ndarray_backend_cpu.cc.o\u001b[0m\n",
            "\u001b[01m\u001b[K/content/drive/MyDrive/10714/hw3/src/ndarray_backend_cpu.cc:\u001b[m\u001b[K In function ‘\u001b[01m\u001b[Kvoid needle::cpu::AlignedDot(const float*, const float*, float*)\u001b[m\u001b[K’:\n",
            "\u001b[01m\u001b[K/content/drive/MyDrive/10714/hw3/src/ndarray_backend_cpu.cc:356:14:\u001b[m\u001b[K \u001b[01;31m\u001b[Kerror: \u001b[m\u001b[Krequest for member ‘\u001b[01m\u001b[Kptr\u001b[m\u001b[K’ in ‘\u001b[01m\u001b[K* out\u001b[m\u001b[K’, which is of non-class type ‘\u001b[01m\u001b[Kfloat\u001b[m\u001b[K’\n",
            "  356 |         out->\u001b[01;31m\u001b[Kptr\u001b[m\u001b[K[i * TILE + j] += a.ptr[i * TILE + k] * b.ptr[k * TILE + j];\n",
            "      |              \u001b[01;31m\u001b[K^~~\u001b[m\u001b[K\n",
            "\u001b[01m\u001b[K/content/drive/MyDrive/10714/hw3/src/ndarray_backend_cpu.cc:356:37:\u001b[m\u001b[K \u001b[01;31m\u001b[Kerror: \u001b[m\u001b[Krequest for member ‘\u001b[01m\u001b[Kptr\u001b[m\u001b[K’ in ‘\u001b[01m\u001b[Ka\u001b[m\u001b[K’, which is of non-class type ‘\u001b[01m\u001b[Kconst float* __restrict__\u001b[m\u001b[K’\n",
            "  356 |         out->ptr[i * TILE + j] += a.\u001b[01;31m\u001b[Kptr\u001b[m\u001b[K[i * TILE + k] * b.ptr[k * TILE + j];\n",
            "      |                                     \u001b[01;31m\u001b[K^~~\u001b[m\u001b[K\n",
            "\u001b[01m\u001b[K/content/drive/MyDrive/10714/hw3/src/ndarray_backend_cpu.cc:356:59:\u001b[m\u001b[K \u001b[01;31m\u001b[Kerror: \u001b[m\u001b[Krequest for member ‘\u001b[01m\u001b[Kptr\u001b[m\u001b[K’ in ‘\u001b[01m\u001b[Kb\u001b[m\u001b[K’, which is of non-class type ‘\u001b[01m\u001b[Kconst float* __restrict__\u001b[m\u001b[K’\n",
            "  356 |         out->ptr[i * TILE + j] += a.ptr[i * TILE + k] * b.\u001b[01;31m\u001b[Kptr\u001b[m\u001b[K[k * TILE + j];\n",
            "      |                                                           \u001b[01;31m\u001b[K^~~\u001b[m\u001b[K\n",
            "make[3]: *** [CMakeFiles/ndarray_backend_cpu.dir/build.make:76: CMakeFiles/ndarray_backend_cpu.dir/src/ndarray_backend_cpu.cc.o] Error 1\n",
            "make[3]: Leaving directory '/content/drive/MyDrive/10714/hw3/build'\n",
            "make[2]: *** [CMakeFiles/Makefile2:85: CMakeFiles/ndarray_backend_cpu.dir/all] Error 2\n",
            "make[2]: Leaving directory '/content/drive/MyDrive/10714/hw3/build'\n",
            "make[1]: *** [Makefile:91: all] Error 2\n",
            "make[1]: Leaving directory '/content/drive/MyDrive/10714/hw3/build'\n",
            "make: *** [Makefile:9: lib] Error 2\n"
          ]
        }
      ]
    },
    {
      "cell_type": "code",
      "execution_count": null,
      "metadata": {
        "id": "28771449",
        "colab": {
          "base_uri": "https://localhost:8080/"
        },
        "outputId": "ebaaf66f-1a15-4906-feea-5eec670381e7"
      },
      "outputs": [
        {
          "output_type": "stream",
          "name": "stdout",
          "text": [
            "\u001b[1m======================================= test session starts ========================================\u001b[0m\n",
            "platform linux -- Python 3.10.12, pytest-7.4.4, pluggy-1.3.0 -- /usr/bin/python3\n",
            "cachedir: .pytest_cache\n",
            "rootdir: /content/drive/MyDrive/10714/hw3\n",
            "plugins: anyio-3.7.1\n",
            "collected 136 items / 126 deselected / 10 selected                                                 \u001b[0m\n",
            "\n",
            "tests/hw3/test_ndarray.py::test_matmul[16-16-16-cpu] \u001b[31mFAILED\u001b[0m\u001b[31m                                  [ 10%]\u001b[0m\n",
            "tests/hw3/test_ndarray.py::test_matmul[8-8-8-cpu] \u001b[31mFAILED\u001b[0m\u001b[31m                                     [ 20%]\u001b[0m\n",
            "tests/hw3/test_ndarray.py::test_matmul[1-2-3-cpu] \u001b[31mFAILED\u001b[0m\u001b[31m                                     [ 30%]\u001b[0m\n",
            "tests/hw3/test_ndarray.py::test_matmul[3-4-5-cpu] \u001b[31mFAILED\u001b[0m\u001b[31m                                     [ 40%]\u001b[0m\n",
            "tests/hw3/test_ndarray.py::test_matmul[5-4-3-cpu] \u001b[31mFAILED\u001b[0m\u001b[31m                                     [ 50%]\u001b[0m\n",
            "tests/hw3/test_ndarray.py::test_matmul[64-64-64-cpu] \u001b[31mFAILED\u001b[0m\u001b[31m                                  [ 60%]\u001b[0m\n",
            "tests/hw3/test_ndarray.py::test_matmul[72-72-72-cpu] \u001b[31mFAILED\u001b[0m\u001b[31m                                  [ 70%]\u001b[0m\n",
            "tests/hw3/test_ndarray.py::test_matmul[72-73-74-cpu] \u001b[31mFAILED\u001b[0m\u001b[31m                                  [ 80%]\u001b[0m\n",
            "tests/hw3/test_ndarray.py::test_matmul[74-73-72-cpu] \u001b[31mFAILED\u001b[0m\u001b[31m                                  [ 90%]\u001b[0m\n",
            "tests/hw3/test_ndarray.py::test_matmul[128-128-128-cpu] \u001b[31mFAILED\u001b[0m\u001b[31m                               [100%]\u001b[0m\n",
            "\n",
            "============================================= FAILURES =============================================\n",
            "\u001b[31m\u001b[1m____________________________________ test_matmul[16-16-16-cpu] _____________________________________\u001b[0m\n",
            "\n",
            "m = 16, n = 16, p = 16, device = cpu()\n",
            "\n",
            "    \u001b[37m@pytest\u001b[39;49;00m.mark.parametrize(\u001b[33m\"\u001b[39;49;00m\u001b[33mdevice\u001b[39;49;00m\u001b[33m\"\u001b[39;49;00m, _DEVICES, ids=[\u001b[33m\"\u001b[39;49;00m\u001b[33mcpu\u001b[39;49;00m\u001b[33m\"\u001b[39;49;00m, \u001b[33m\"\u001b[39;49;00m\u001b[33mcuda\u001b[39;49;00m\u001b[33m\"\u001b[39;49;00m])\u001b[90m\u001b[39;49;00m\n",
            "    \u001b[37m@pytest\u001b[39;49;00m.mark.parametrize(\u001b[33m\"\u001b[39;49;00m\u001b[33mm,n,p\u001b[39;49;00m\u001b[33m\"\u001b[39;49;00m, matmul_dims)\u001b[90m\u001b[39;49;00m\n",
            "    \u001b[94mdef\u001b[39;49;00m \u001b[92mtest_matmul\u001b[39;49;00m(m, n, p, device):\u001b[90m\u001b[39;49;00m\n",
            "        _A = np.random.randn(m, n)\u001b[90m\u001b[39;49;00m\n",
            "        _B = np.random.randn(n, p)\u001b[90m\u001b[39;49;00m\n",
            "        A = nd.array(_A, device=device)\u001b[90m\u001b[39;49;00m\n",
            "        B = nd.array(_B, device=device)\u001b[90m\u001b[39;49;00m\n",
            ">       np.testing.assert_allclose((A @ B).numpy(), _A @ _B, rtol=\u001b[94m1e-5\u001b[39;49;00m, atol=\u001b[94m1e-5\u001b[39;49;00m)\u001b[90m\u001b[39;49;00m\n",
            "\n",
            "\u001b[1m\u001b[31mtests/hw3/test_ndarray.py\u001b[0m:377: \n",
            "_ _ _ _ _ _ _ _ _ _ _ _ _ _ _ _ _ _ _ _ _ _ _ _ _ _ _ _ _ _ _ _ _ _ _ _ _ _ _ _ _ _ _ _ _ _ _ _ _ _ \n",
            "\u001b[1m\u001b[31mpython/needle/backend_ndarray/ndarray.py\u001b[0m:590: in __matmul__\n",
            "    \u001b[96mself\u001b[39;49;00m.device.matmul(\u001b[90m\u001b[39;49;00m\n",
            "_ _ _ _ _ _ _ _ _ _ _ _ _ _ _ _ _ _ _ _ _ _ _ _ _ _ _ _ _ _ _ _ _ _ _ _ _ _ _ _ _ _ _ _ _ _ _ _ _ _ \n",
            "\n",
            "self = cpu(), name = 'matmul'\n",
            "\n",
            "    \u001b[94mdef\u001b[39;49;00m \u001b[92m__getattr__\u001b[39;49;00m(\u001b[96mself\u001b[39;49;00m, name):\u001b[90m\u001b[39;49;00m\n",
            ">       \u001b[94mreturn\u001b[39;49;00m \u001b[96mgetattr\u001b[39;49;00m(\u001b[96mself\u001b[39;49;00m.mod, name)\u001b[90m\u001b[39;49;00m\n",
            "\u001b[1m\u001b[31mE       AttributeError: module 'needle.backend_ndarray.ndarray_backend_cpu' has no attribute 'matmul'\u001b[0m\n",
            "\n",
            "\u001b[1m\u001b[31mpython/needle/backend_ndarray/ndarray.py\u001b[0m:30: AttributeError\n",
            "\u001b[31m\u001b[1m______________________________________ test_matmul[8-8-8-cpu] ______________________________________\u001b[0m\n",
            "\n",
            "m = 8, n = 8, p = 8, device = cpu()\n",
            "\n",
            "    \u001b[37m@pytest\u001b[39;49;00m.mark.parametrize(\u001b[33m\"\u001b[39;49;00m\u001b[33mdevice\u001b[39;49;00m\u001b[33m\"\u001b[39;49;00m, _DEVICES, ids=[\u001b[33m\"\u001b[39;49;00m\u001b[33mcpu\u001b[39;49;00m\u001b[33m\"\u001b[39;49;00m, \u001b[33m\"\u001b[39;49;00m\u001b[33mcuda\u001b[39;49;00m\u001b[33m\"\u001b[39;49;00m])\u001b[90m\u001b[39;49;00m\n",
            "    \u001b[37m@pytest\u001b[39;49;00m.mark.parametrize(\u001b[33m\"\u001b[39;49;00m\u001b[33mm,n,p\u001b[39;49;00m\u001b[33m\"\u001b[39;49;00m, matmul_dims)\u001b[90m\u001b[39;49;00m\n",
            "    \u001b[94mdef\u001b[39;49;00m \u001b[92mtest_matmul\u001b[39;49;00m(m, n, p, device):\u001b[90m\u001b[39;49;00m\n",
            "        _A = np.random.randn(m, n)\u001b[90m\u001b[39;49;00m\n",
            "        _B = np.random.randn(n, p)\u001b[90m\u001b[39;49;00m\n",
            "        A = nd.array(_A, device=device)\u001b[90m\u001b[39;49;00m\n",
            "        B = nd.array(_B, device=device)\u001b[90m\u001b[39;49;00m\n",
            ">       np.testing.assert_allclose((A @ B).numpy(), _A @ _B, rtol=\u001b[94m1e-5\u001b[39;49;00m, atol=\u001b[94m1e-5\u001b[39;49;00m)\u001b[90m\u001b[39;49;00m\n",
            "\n",
            "\u001b[1m\u001b[31mtests/hw3/test_ndarray.py\u001b[0m:377: \n",
            "_ _ _ _ _ _ _ _ _ _ _ _ _ _ _ _ _ _ _ _ _ _ _ _ _ _ _ _ _ _ _ _ _ _ _ _ _ _ _ _ _ _ _ _ _ _ _ _ _ _ \n",
            "\u001b[1m\u001b[31mpython/needle/backend_ndarray/ndarray.py\u001b[0m:590: in __matmul__\n",
            "    \u001b[96mself\u001b[39;49;00m.device.matmul(\u001b[90m\u001b[39;49;00m\n",
            "_ _ _ _ _ _ _ _ _ _ _ _ _ _ _ _ _ _ _ _ _ _ _ _ _ _ _ _ _ _ _ _ _ _ _ _ _ _ _ _ _ _ _ _ _ _ _ _ _ _ \n",
            "\n",
            "self = cpu(), name = 'matmul'\n",
            "\n",
            "    \u001b[94mdef\u001b[39;49;00m \u001b[92m__getattr__\u001b[39;49;00m(\u001b[96mself\u001b[39;49;00m, name):\u001b[90m\u001b[39;49;00m\n",
            ">       \u001b[94mreturn\u001b[39;49;00m \u001b[96mgetattr\u001b[39;49;00m(\u001b[96mself\u001b[39;49;00m.mod, name)\u001b[90m\u001b[39;49;00m\n",
            "\u001b[1m\u001b[31mE       AttributeError: module 'needle.backend_ndarray.ndarray_backend_cpu' has no attribute 'matmul'\u001b[0m\n",
            "\n",
            "\u001b[1m\u001b[31mpython/needle/backend_ndarray/ndarray.py\u001b[0m:30: AttributeError\n",
            "\u001b[31m\u001b[1m______________________________________ test_matmul[1-2-3-cpu] ______________________________________\u001b[0m\n",
            "\n",
            "m = 1, n = 2, p = 3, device = cpu()\n",
            "\n",
            "    \u001b[37m@pytest\u001b[39;49;00m.mark.parametrize(\u001b[33m\"\u001b[39;49;00m\u001b[33mdevice\u001b[39;49;00m\u001b[33m\"\u001b[39;49;00m, _DEVICES, ids=[\u001b[33m\"\u001b[39;49;00m\u001b[33mcpu\u001b[39;49;00m\u001b[33m\"\u001b[39;49;00m, \u001b[33m\"\u001b[39;49;00m\u001b[33mcuda\u001b[39;49;00m\u001b[33m\"\u001b[39;49;00m])\u001b[90m\u001b[39;49;00m\n",
            "    \u001b[37m@pytest\u001b[39;49;00m.mark.parametrize(\u001b[33m\"\u001b[39;49;00m\u001b[33mm,n,p\u001b[39;49;00m\u001b[33m\"\u001b[39;49;00m, matmul_dims)\u001b[90m\u001b[39;49;00m\n",
            "    \u001b[94mdef\u001b[39;49;00m \u001b[92mtest_matmul\u001b[39;49;00m(m, n, p, device):\u001b[90m\u001b[39;49;00m\n",
            "        _A = np.random.randn(m, n)\u001b[90m\u001b[39;49;00m\n",
            "        _B = np.random.randn(n, p)\u001b[90m\u001b[39;49;00m\n",
            "        A = nd.array(_A, device=device)\u001b[90m\u001b[39;49;00m\n",
            "        B = nd.array(_B, device=device)\u001b[90m\u001b[39;49;00m\n",
            ">       np.testing.assert_allclose((A @ B).numpy(), _A @ _B, rtol=\u001b[94m1e-5\u001b[39;49;00m, atol=\u001b[94m1e-5\u001b[39;49;00m)\u001b[90m\u001b[39;49;00m\n",
            "\n",
            "\u001b[1m\u001b[31mtests/hw3/test_ndarray.py\u001b[0m:377: \n",
            "_ _ _ _ _ _ _ _ _ _ _ _ _ _ _ _ _ _ _ _ _ _ _ _ _ _ _ _ _ _ _ _ _ _ _ _ _ _ _ _ _ _ _ _ _ _ _ _ _ _ \n",
            "\u001b[1m\u001b[31mpython/needle/backend_ndarray/ndarray.py\u001b[0m:590: in __matmul__\n",
            "    \u001b[96mself\u001b[39;49;00m.device.matmul(\u001b[90m\u001b[39;49;00m\n",
            "_ _ _ _ _ _ _ _ _ _ _ _ _ _ _ _ _ _ _ _ _ _ _ _ _ _ _ _ _ _ _ _ _ _ _ _ _ _ _ _ _ _ _ _ _ _ _ _ _ _ \n",
            "\n",
            "self = cpu(), name = 'matmul'\n",
            "\n",
            "    \u001b[94mdef\u001b[39;49;00m \u001b[92m__getattr__\u001b[39;49;00m(\u001b[96mself\u001b[39;49;00m, name):\u001b[90m\u001b[39;49;00m\n",
            ">       \u001b[94mreturn\u001b[39;49;00m \u001b[96mgetattr\u001b[39;49;00m(\u001b[96mself\u001b[39;49;00m.mod, name)\u001b[90m\u001b[39;49;00m\n",
            "\u001b[1m\u001b[31mE       AttributeError: module 'needle.backend_ndarray.ndarray_backend_cpu' has no attribute 'matmul'\u001b[0m\n",
            "\n",
            "\u001b[1m\u001b[31mpython/needle/backend_ndarray/ndarray.py\u001b[0m:30: AttributeError\n",
            "\u001b[31m\u001b[1m______________________________________ test_matmul[3-4-5-cpu] ______________________________________\u001b[0m\n",
            "\n",
            "m = 3, n = 4, p = 5, device = cpu()\n",
            "\n",
            "    \u001b[37m@pytest\u001b[39;49;00m.mark.parametrize(\u001b[33m\"\u001b[39;49;00m\u001b[33mdevice\u001b[39;49;00m\u001b[33m\"\u001b[39;49;00m, _DEVICES, ids=[\u001b[33m\"\u001b[39;49;00m\u001b[33mcpu\u001b[39;49;00m\u001b[33m\"\u001b[39;49;00m, \u001b[33m\"\u001b[39;49;00m\u001b[33mcuda\u001b[39;49;00m\u001b[33m\"\u001b[39;49;00m])\u001b[90m\u001b[39;49;00m\n",
            "    \u001b[37m@pytest\u001b[39;49;00m.mark.parametrize(\u001b[33m\"\u001b[39;49;00m\u001b[33mm,n,p\u001b[39;49;00m\u001b[33m\"\u001b[39;49;00m, matmul_dims)\u001b[90m\u001b[39;49;00m\n",
            "    \u001b[94mdef\u001b[39;49;00m \u001b[92mtest_matmul\u001b[39;49;00m(m, n, p, device):\u001b[90m\u001b[39;49;00m\n",
            "        _A = np.random.randn(m, n)\u001b[90m\u001b[39;49;00m\n",
            "        _B = np.random.randn(n, p)\u001b[90m\u001b[39;49;00m\n",
            "        A = nd.array(_A, device=device)\u001b[90m\u001b[39;49;00m\n",
            "        B = nd.array(_B, device=device)\u001b[90m\u001b[39;49;00m\n",
            ">       np.testing.assert_allclose((A @ B).numpy(), _A @ _B, rtol=\u001b[94m1e-5\u001b[39;49;00m, atol=\u001b[94m1e-5\u001b[39;49;00m)\u001b[90m\u001b[39;49;00m\n",
            "\n",
            "\u001b[1m\u001b[31mtests/hw3/test_ndarray.py\u001b[0m:377: \n",
            "_ _ _ _ _ _ _ _ _ _ _ _ _ _ _ _ _ _ _ _ _ _ _ _ _ _ _ _ _ _ _ _ _ _ _ _ _ _ _ _ _ _ _ _ _ _ _ _ _ _ \n",
            "\u001b[1m\u001b[31mpython/needle/backend_ndarray/ndarray.py\u001b[0m:590: in __matmul__\n",
            "    \u001b[96mself\u001b[39;49;00m.device.matmul(\u001b[90m\u001b[39;49;00m\n",
            "_ _ _ _ _ _ _ _ _ _ _ _ _ _ _ _ _ _ _ _ _ _ _ _ _ _ _ _ _ _ _ _ _ _ _ _ _ _ _ _ _ _ _ _ _ _ _ _ _ _ \n",
            "\n",
            "self = cpu(), name = 'matmul'\n",
            "\n",
            "    \u001b[94mdef\u001b[39;49;00m \u001b[92m__getattr__\u001b[39;49;00m(\u001b[96mself\u001b[39;49;00m, name):\u001b[90m\u001b[39;49;00m\n",
            ">       \u001b[94mreturn\u001b[39;49;00m \u001b[96mgetattr\u001b[39;49;00m(\u001b[96mself\u001b[39;49;00m.mod, name)\u001b[90m\u001b[39;49;00m\n",
            "\u001b[1m\u001b[31mE       AttributeError: module 'needle.backend_ndarray.ndarray_backend_cpu' has no attribute 'matmul'\u001b[0m\n",
            "\n",
            "\u001b[1m\u001b[31mpython/needle/backend_ndarray/ndarray.py\u001b[0m:30: AttributeError\n",
            "\u001b[31m\u001b[1m______________________________________ test_matmul[5-4-3-cpu] ______________________________________\u001b[0m\n",
            "\n",
            "m = 5, n = 4, p = 3, device = cpu()\n",
            "\n",
            "    \u001b[37m@pytest\u001b[39;49;00m.mark.parametrize(\u001b[33m\"\u001b[39;49;00m\u001b[33mdevice\u001b[39;49;00m\u001b[33m\"\u001b[39;49;00m, _DEVICES, ids=[\u001b[33m\"\u001b[39;49;00m\u001b[33mcpu\u001b[39;49;00m\u001b[33m\"\u001b[39;49;00m, \u001b[33m\"\u001b[39;49;00m\u001b[33mcuda\u001b[39;49;00m\u001b[33m\"\u001b[39;49;00m])\u001b[90m\u001b[39;49;00m\n",
            "    \u001b[37m@pytest\u001b[39;49;00m.mark.parametrize(\u001b[33m\"\u001b[39;49;00m\u001b[33mm,n,p\u001b[39;49;00m\u001b[33m\"\u001b[39;49;00m, matmul_dims)\u001b[90m\u001b[39;49;00m\n",
            "    \u001b[94mdef\u001b[39;49;00m \u001b[92mtest_matmul\u001b[39;49;00m(m, n, p, device):\u001b[90m\u001b[39;49;00m\n",
            "        _A = np.random.randn(m, n)\u001b[90m\u001b[39;49;00m\n",
            "        _B = np.random.randn(n, p)\u001b[90m\u001b[39;49;00m\n",
            "        A = nd.array(_A, device=device)\u001b[90m\u001b[39;49;00m\n",
            "        B = nd.array(_B, device=device)\u001b[90m\u001b[39;49;00m\n",
            ">       np.testing.assert_allclose((A @ B).numpy(), _A @ _B, rtol=\u001b[94m1e-5\u001b[39;49;00m, atol=\u001b[94m1e-5\u001b[39;49;00m)\u001b[90m\u001b[39;49;00m\n",
            "\n",
            "\u001b[1m\u001b[31mtests/hw3/test_ndarray.py\u001b[0m:377: \n",
            "_ _ _ _ _ _ _ _ _ _ _ _ _ _ _ _ _ _ _ _ _ _ _ _ _ _ _ _ _ _ _ _ _ _ _ _ _ _ _ _ _ _ _ _ _ _ _ _ _ _ \n",
            "\u001b[1m\u001b[31mpython/needle/backend_ndarray/ndarray.py\u001b[0m:590: in __matmul__\n",
            "    \u001b[96mself\u001b[39;49;00m.device.matmul(\u001b[90m\u001b[39;49;00m\n",
            "_ _ _ _ _ _ _ _ _ _ _ _ _ _ _ _ _ _ _ _ _ _ _ _ _ _ _ _ _ _ _ _ _ _ _ _ _ _ _ _ _ _ _ _ _ _ _ _ _ _ \n",
            "\n",
            "self = cpu(), name = 'matmul'\n",
            "\n",
            "    \u001b[94mdef\u001b[39;49;00m \u001b[92m__getattr__\u001b[39;49;00m(\u001b[96mself\u001b[39;49;00m, name):\u001b[90m\u001b[39;49;00m\n",
            ">       \u001b[94mreturn\u001b[39;49;00m \u001b[96mgetattr\u001b[39;49;00m(\u001b[96mself\u001b[39;49;00m.mod, name)\u001b[90m\u001b[39;49;00m\n",
            "\u001b[1m\u001b[31mE       AttributeError: module 'needle.backend_ndarray.ndarray_backend_cpu' has no attribute 'matmul'\u001b[0m\n",
            "\n",
            "\u001b[1m\u001b[31mpython/needle/backend_ndarray/ndarray.py\u001b[0m:30: AttributeError\n",
            "\u001b[31m\u001b[1m____________________________________ test_matmul[64-64-64-cpu] _____________________________________\u001b[0m\n",
            "\n",
            "m = 64, n = 64, p = 64, device = cpu()\n",
            "\n",
            "    \u001b[37m@pytest\u001b[39;49;00m.mark.parametrize(\u001b[33m\"\u001b[39;49;00m\u001b[33mdevice\u001b[39;49;00m\u001b[33m\"\u001b[39;49;00m, _DEVICES, ids=[\u001b[33m\"\u001b[39;49;00m\u001b[33mcpu\u001b[39;49;00m\u001b[33m\"\u001b[39;49;00m, \u001b[33m\"\u001b[39;49;00m\u001b[33mcuda\u001b[39;49;00m\u001b[33m\"\u001b[39;49;00m])\u001b[90m\u001b[39;49;00m\n",
            "    \u001b[37m@pytest\u001b[39;49;00m.mark.parametrize(\u001b[33m\"\u001b[39;49;00m\u001b[33mm,n,p\u001b[39;49;00m\u001b[33m\"\u001b[39;49;00m, matmul_dims)\u001b[90m\u001b[39;49;00m\n",
            "    \u001b[94mdef\u001b[39;49;00m \u001b[92mtest_matmul\u001b[39;49;00m(m, n, p, device):\u001b[90m\u001b[39;49;00m\n",
            "        _A = np.random.randn(m, n)\u001b[90m\u001b[39;49;00m\n",
            "        _B = np.random.randn(n, p)\u001b[90m\u001b[39;49;00m\n",
            "        A = nd.array(_A, device=device)\u001b[90m\u001b[39;49;00m\n",
            "        B = nd.array(_B, device=device)\u001b[90m\u001b[39;49;00m\n",
            ">       np.testing.assert_allclose((A @ B).numpy(), _A @ _B, rtol=\u001b[94m1e-5\u001b[39;49;00m, atol=\u001b[94m1e-5\u001b[39;49;00m)\u001b[90m\u001b[39;49;00m\n",
            "\n",
            "\u001b[1m\u001b[31mtests/hw3/test_ndarray.py\u001b[0m:377: \n",
            "_ _ _ _ _ _ _ _ _ _ _ _ _ _ _ _ _ _ _ _ _ _ _ _ _ _ _ _ _ _ _ _ _ _ _ _ _ _ _ _ _ _ _ _ _ _ _ _ _ _ \n",
            "\u001b[1m\u001b[31mpython/needle/backend_ndarray/ndarray.py\u001b[0m:590: in __matmul__\n",
            "    \u001b[96mself\u001b[39;49;00m.device.matmul(\u001b[90m\u001b[39;49;00m\n",
            "_ _ _ _ _ _ _ _ _ _ _ _ _ _ _ _ _ _ _ _ _ _ _ _ _ _ _ _ _ _ _ _ _ _ _ _ _ _ _ _ _ _ _ _ _ _ _ _ _ _ \n",
            "\n",
            "self = cpu(), name = 'matmul'\n",
            "\n",
            "    \u001b[94mdef\u001b[39;49;00m \u001b[92m__getattr__\u001b[39;49;00m(\u001b[96mself\u001b[39;49;00m, name):\u001b[90m\u001b[39;49;00m\n",
            ">       \u001b[94mreturn\u001b[39;49;00m \u001b[96mgetattr\u001b[39;49;00m(\u001b[96mself\u001b[39;49;00m.mod, name)\u001b[90m\u001b[39;49;00m\n",
            "\u001b[1m\u001b[31mE       AttributeError: module 'needle.backend_ndarray.ndarray_backend_cpu' has no attribute 'matmul'\u001b[0m\n",
            "\n",
            "\u001b[1m\u001b[31mpython/needle/backend_ndarray/ndarray.py\u001b[0m:30: AttributeError\n",
            "\u001b[31m\u001b[1m____________________________________ test_matmul[72-72-72-cpu] _____________________________________\u001b[0m\n",
            "\n",
            "m = 72, n = 72, p = 72, device = cpu()\n",
            "\n",
            "    \u001b[37m@pytest\u001b[39;49;00m.mark.parametrize(\u001b[33m\"\u001b[39;49;00m\u001b[33mdevice\u001b[39;49;00m\u001b[33m\"\u001b[39;49;00m, _DEVICES, ids=[\u001b[33m\"\u001b[39;49;00m\u001b[33mcpu\u001b[39;49;00m\u001b[33m\"\u001b[39;49;00m, \u001b[33m\"\u001b[39;49;00m\u001b[33mcuda\u001b[39;49;00m\u001b[33m\"\u001b[39;49;00m])\u001b[90m\u001b[39;49;00m\n",
            "    \u001b[37m@pytest\u001b[39;49;00m.mark.parametrize(\u001b[33m\"\u001b[39;49;00m\u001b[33mm,n,p\u001b[39;49;00m\u001b[33m\"\u001b[39;49;00m, matmul_dims)\u001b[90m\u001b[39;49;00m\n",
            "    \u001b[94mdef\u001b[39;49;00m \u001b[92mtest_matmul\u001b[39;49;00m(m, n, p, device):\u001b[90m\u001b[39;49;00m\n",
            "        _A = np.random.randn(m, n)\u001b[90m\u001b[39;49;00m\n",
            "        _B = np.random.randn(n, p)\u001b[90m\u001b[39;49;00m\n",
            "        A = nd.array(_A, device=device)\u001b[90m\u001b[39;49;00m\n",
            "        B = nd.array(_B, device=device)\u001b[90m\u001b[39;49;00m\n",
            ">       np.testing.assert_allclose((A @ B).numpy(), _A @ _B, rtol=\u001b[94m1e-5\u001b[39;49;00m, atol=\u001b[94m1e-5\u001b[39;49;00m)\u001b[90m\u001b[39;49;00m\n",
            "\n",
            "\u001b[1m\u001b[31mtests/hw3/test_ndarray.py\u001b[0m:377: \n",
            "_ _ _ _ _ _ _ _ _ _ _ _ _ _ _ _ _ _ _ _ _ _ _ _ _ _ _ _ _ _ _ _ _ _ _ _ _ _ _ _ _ _ _ _ _ _ _ _ _ _ \n",
            "\u001b[1m\u001b[31mpython/needle/backend_ndarray/ndarray.py\u001b[0m:590: in __matmul__\n",
            "    \u001b[96mself\u001b[39;49;00m.device.matmul(\u001b[90m\u001b[39;49;00m\n",
            "_ _ _ _ _ _ _ _ _ _ _ _ _ _ _ _ _ _ _ _ _ _ _ _ _ _ _ _ _ _ _ _ _ _ _ _ _ _ _ _ _ _ _ _ _ _ _ _ _ _ \n",
            "\n",
            "self = cpu(), name = 'matmul'\n",
            "\n",
            "    \u001b[94mdef\u001b[39;49;00m \u001b[92m__getattr__\u001b[39;49;00m(\u001b[96mself\u001b[39;49;00m, name):\u001b[90m\u001b[39;49;00m\n",
            ">       \u001b[94mreturn\u001b[39;49;00m \u001b[96mgetattr\u001b[39;49;00m(\u001b[96mself\u001b[39;49;00m.mod, name)\u001b[90m\u001b[39;49;00m\n",
            "\u001b[1m\u001b[31mE       AttributeError: module 'needle.backend_ndarray.ndarray_backend_cpu' has no attribute 'matmul'\u001b[0m\n",
            "\n",
            "\u001b[1m\u001b[31mpython/needle/backend_ndarray/ndarray.py\u001b[0m:30: AttributeError\n",
            "\u001b[31m\u001b[1m____________________________________ test_matmul[72-73-74-cpu] _____________________________________\u001b[0m\n",
            "\n",
            "m = 72, n = 73, p = 74, device = cpu()\n",
            "\n",
            "    \u001b[37m@pytest\u001b[39;49;00m.mark.parametrize(\u001b[33m\"\u001b[39;49;00m\u001b[33mdevice\u001b[39;49;00m\u001b[33m\"\u001b[39;49;00m, _DEVICES, ids=[\u001b[33m\"\u001b[39;49;00m\u001b[33mcpu\u001b[39;49;00m\u001b[33m\"\u001b[39;49;00m, \u001b[33m\"\u001b[39;49;00m\u001b[33mcuda\u001b[39;49;00m\u001b[33m\"\u001b[39;49;00m])\u001b[90m\u001b[39;49;00m\n",
            "    \u001b[37m@pytest\u001b[39;49;00m.mark.parametrize(\u001b[33m\"\u001b[39;49;00m\u001b[33mm,n,p\u001b[39;49;00m\u001b[33m\"\u001b[39;49;00m, matmul_dims)\u001b[90m\u001b[39;49;00m\n",
            "    \u001b[94mdef\u001b[39;49;00m \u001b[92mtest_matmul\u001b[39;49;00m(m, n, p, device):\u001b[90m\u001b[39;49;00m\n",
            "        _A = np.random.randn(m, n)\u001b[90m\u001b[39;49;00m\n",
            "        _B = np.random.randn(n, p)\u001b[90m\u001b[39;49;00m\n",
            "        A = nd.array(_A, device=device)\u001b[90m\u001b[39;49;00m\n",
            "        B = nd.array(_B, device=device)\u001b[90m\u001b[39;49;00m\n",
            ">       np.testing.assert_allclose((A @ B).numpy(), _A @ _B, rtol=\u001b[94m1e-5\u001b[39;49;00m, atol=\u001b[94m1e-5\u001b[39;49;00m)\u001b[90m\u001b[39;49;00m\n",
            "\n",
            "\u001b[1m\u001b[31mtests/hw3/test_ndarray.py\u001b[0m:377: \n",
            "_ _ _ _ _ _ _ _ _ _ _ _ _ _ _ _ _ _ _ _ _ _ _ _ _ _ _ _ _ _ _ _ _ _ _ _ _ _ _ _ _ _ _ _ _ _ _ _ _ _ \n",
            "\u001b[1m\u001b[31mpython/needle/backend_ndarray/ndarray.py\u001b[0m:590: in __matmul__\n",
            "    \u001b[96mself\u001b[39;49;00m.device.matmul(\u001b[90m\u001b[39;49;00m\n",
            "_ _ _ _ _ _ _ _ _ _ _ _ _ _ _ _ _ _ _ _ _ _ _ _ _ _ _ _ _ _ _ _ _ _ _ _ _ _ _ _ _ _ _ _ _ _ _ _ _ _ \n",
            "\n",
            "self = cpu(), name = 'matmul'\n",
            "\n",
            "    \u001b[94mdef\u001b[39;49;00m \u001b[92m__getattr__\u001b[39;49;00m(\u001b[96mself\u001b[39;49;00m, name):\u001b[90m\u001b[39;49;00m\n",
            ">       \u001b[94mreturn\u001b[39;49;00m \u001b[96mgetattr\u001b[39;49;00m(\u001b[96mself\u001b[39;49;00m.mod, name)\u001b[90m\u001b[39;49;00m\n",
            "\u001b[1m\u001b[31mE       AttributeError: module 'needle.backend_ndarray.ndarray_backend_cpu' has no attribute 'matmul'\u001b[0m\n",
            "\n",
            "\u001b[1m\u001b[31mpython/needle/backend_ndarray/ndarray.py\u001b[0m:30: AttributeError\n",
            "\u001b[31m\u001b[1m____________________________________ test_matmul[74-73-72-cpu] _____________________________________\u001b[0m\n",
            "\n",
            "m = 74, n = 73, p = 72, device = cpu()\n",
            "\n",
            "    \u001b[37m@pytest\u001b[39;49;00m.mark.parametrize(\u001b[33m\"\u001b[39;49;00m\u001b[33mdevice\u001b[39;49;00m\u001b[33m\"\u001b[39;49;00m, _DEVICES, ids=[\u001b[33m\"\u001b[39;49;00m\u001b[33mcpu\u001b[39;49;00m\u001b[33m\"\u001b[39;49;00m, \u001b[33m\"\u001b[39;49;00m\u001b[33mcuda\u001b[39;49;00m\u001b[33m\"\u001b[39;49;00m])\u001b[90m\u001b[39;49;00m\n",
            "    \u001b[37m@pytest\u001b[39;49;00m.mark.parametrize(\u001b[33m\"\u001b[39;49;00m\u001b[33mm,n,p\u001b[39;49;00m\u001b[33m\"\u001b[39;49;00m, matmul_dims)\u001b[90m\u001b[39;49;00m\n",
            "    \u001b[94mdef\u001b[39;49;00m \u001b[92mtest_matmul\u001b[39;49;00m(m, n, p, device):\u001b[90m\u001b[39;49;00m\n",
            "        _A = np.random.randn(m, n)\u001b[90m\u001b[39;49;00m\n",
            "        _B = np.random.randn(n, p)\u001b[90m\u001b[39;49;00m\n",
            "        A = nd.array(_A, device=device)\u001b[90m\u001b[39;49;00m\n",
            "        B = nd.array(_B, device=device)\u001b[90m\u001b[39;49;00m\n",
            ">       np.testing.assert_allclose((A @ B).numpy(), _A @ _B, rtol=\u001b[94m1e-5\u001b[39;49;00m, atol=\u001b[94m1e-5\u001b[39;49;00m)\u001b[90m\u001b[39;49;00m\n",
            "\n",
            "\u001b[1m\u001b[31mtests/hw3/test_ndarray.py\u001b[0m:377: \n",
            "_ _ _ _ _ _ _ _ _ _ _ _ _ _ _ _ _ _ _ _ _ _ _ _ _ _ _ _ _ _ _ _ _ _ _ _ _ _ _ _ _ _ _ _ _ _ _ _ _ _ \n",
            "\u001b[1m\u001b[31mpython/needle/backend_ndarray/ndarray.py\u001b[0m:590: in __matmul__\n",
            "    \u001b[96mself\u001b[39;49;00m.device.matmul(\u001b[90m\u001b[39;49;00m\n",
            "_ _ _ _ _ _ _ _ _ _ _ _ _ _ _ _ _ _ _ _ _ _ _ _ _ _ _ _ _ _ _ _ _ _ _ _ _ _ _ _ _ _ _ _ _ _ _ _ _ _ \n",
            "\n",
            "self = cpu(), name = 'matmul'\n",
            "\n",
            "    \u001b[94mdef\u001b[39;49;00m \u001b[92m__getattr__\u001b[39;49;00m(\u001b[96mself\u001b[39;49;00m, name):\u001b[90m\u001b[39;49;00m\n",
            ">       \u001b[94mreturn\u001b[39;49;00m \u001b[96mgetattr\u001b[39;49;00m(\u001b[96mself\u001b[39;49;00m.mod, name)\u001b[90m\u001b[39;49;00m\n",
            "\u001b[1m\u001b[31mE       AttributeError: module 'needle.backend_ndarray.ndarray_backend_cpu' has no attribute 'matmul'\u001b[0m\n",
            "\n",
            "\u001b[1m\u001b[31mpython/needle/backend_ndarray/ndarray.py\u001b[0m:30: AttributeError\n",
            "\u001b[31m\u001b[1m___________________________________ test_matmul[128-128-128-cpu] ___________________________________\u001b[0m\n",
            "\n",
            "m = 128, n = 128, p = 128, device = cpu()\n",
            "\n",
            "    \u001b[37m@pytest\u001b[39;49;00m.mark.parametrize(\u001b[33m\"\u001b[39;49;00m\u001b[33mdevice\u001b[39;49;00m\u001b[33m\"\u001b[39;49;00m, _DEVICES, ids=[\u001b[33m\"\u001b[39;49;00m\u001b[33mcpu\u001b[39;49;00m\u001b[33m\"\u001b[39;49;00m, \u001b[33m\"\u001b[39;49;00m\u001b[33mcuda\u001b[39;49;00m\u001b[33m\"\u001b[39;49;00m])\u001b[90m\u001b[39;49;00m\n",
            "    \u001b[37m@pytest\u001b[39;49;00m.mark.parametrize(\u001b[33m\"\u001b[39;49;00m\u001b[33mm,n,p\u001b[39;49;00m\u001b[33m\"\u001b[39;49;00m, matmul_dims)\u001b[90m\u001b[39;49;00m\n",
            "    \u001b[94mdef\u001b[39;49;00m \u001b[92mtest_matmul\u001b[39;49;00m(m, n, p, device):\u001b[90m\u001b[39;49;00m\n",
            "        _A = np.random.randn(m, n)\u001b[90m\u001b[39;49;00m\n",
            "        _B = np.random.randn(n, p)\u001b[90m\u001b[39;49;00m\n",
            "        A = nd.array(_A, device=device)\u001b[90m\u001b[39;49;00m\n",
            "        B = nd.array(_B, device=device)\u001b[90m\u001b[39;49;00m\n",
            ">       np.testing.assert_allclose((A @ B).numpy(), _A @ _B, rtol=\u001b[94m1e-5\u001b[39;49;00m, atol=\u001b[94m1e-5\u001b[39;49;00m)\u001b[90m\u001b[39;49;00m\n",
            "\n",
            "\u001b[1m\u001b[31mtests/hw3/test_ndarray.py\u001b[0m:377: \n",
            "_ _ _ _ _ _ _ _ _ _ _ _ _ _ _ _ _ _ _ _ _ _ _ _ _ _ _ _ _ _ _ _ _ _ _ _ _ _ _ _ _ _ _ _ _ _ _ _ _ _ \n",
            "\u001b[1m\u001b[31mpython/needle/backend_ndarray/ndarray.py\u001b[0m:590: in __matmul__\n",
            "    \u001b[96mself\u001b[39;49;00m.device.matmul(\u001b[90m\u001b[39;49;00m\n",
            "_ _ _ _ _ _ _ _ _ _ _ _ _ _ _ _ _ _ _ _ _ _ _ _ _ _ _ _ _ _ _ _ _ _ _ _ _ _ _ _ _ _ _ _ _ _ _ _ _ _ \n",
            "\n",
            "self = cpu(), name = 'matmul'\n",
            "\n",
            "    \u001b[94mdef\u001b[39;49;00m \u001b[92m__getattr__\u001b[39;49;00m(\u001b[96mself\u001b[39;49;00m, name):\u001b[90m\u001b[39;49;00m\n",
            ">       \u001b[94mreturn\u001b[39;49;00m \u001b[96mgetattr\u001b[39;49;00m(\u001b[96mself\u001b[39;49;00m.mod, name)\u001b[90m\u001b[39;49;00m\n",
            "\u001b[1m\u001b[31mE       AttributeError: module 'needle.backend_ndarray.ndarray_backend_cpu' has no attribute 'matmul'\u001b[0m\n",
            "\n",
            "\u001b[1m\u001b[31mpython/needle/backend_ndarray/ndarray.py\u001b[0m:30: AttributeError\n",
            "\u001b[36m\u001b[1m===================================== short test summary info ======================================\u001b[0m\n",
            "\u001b[31mFAILED\u001b[0m tests/hw3/test_ndarray.py::\u001b[1mtest_matmul[16-16-16-cpu]\u001b[0m - AttributeError: module 'needle.backend_ndarray.ndarray_backend_cpu' has no attribute 'matmul'\n",
            "\u001b[31mFAILED\u001b[0m tests/hw3/test_ndarray.py::\u001b[1mtest_matmul[8-8-8-cpu]\u001b[0m - AttributeError: module 'needle.backend_ndarray.ndarray_backend_cpu' has no attribute 'matmul'\n",
            "\u001b[31mFAILED\u001b[0m tests/hw3/test_ndarray.py::\u001b[1mtest_matmul[1-2-3-cpu]\u001b[0m - AttributeError: module 'needle.backend_ndarray.ndarray_backend_cpu' has no attribute 'matmul'\n",
            "\u001b[31mFAILED\u001b[0m tests/hw3/test_ndarray.py::\u001b[1mtest_matmul[3-4-5-cpu]\u001b[0m - AttributeError: module 'needle.backend_ndarray.ndarray_backend_cpu' has no attribute 'matmul'\n",
            "\u001b[31mFAILED\u001b[0m tests/hw3/test_ndarray.py::\u001b[1mtest_matmul[5-4-3-cpu]\u001b[0m - AttributeError: module 'needle.backend_ndarray.ndarray_backend_cpu' has no attribute 'matmul'\n",
            "\u001b[31mFAILED\u001b[0m tests/hw3/test_ndarray.py::\u001b[1mtest_matmul[64-64-64-cpu]\u001b[0m - AttributeError: module 'needle.backend_ndarray.ndarray_backend_cpu' has no attribute 'matmul'\n",
            "\u001b[31mFAILED\u001b[0m tests/hw3/test_ndarray.py::\u001b[1mtest_matmul[72-72-72-cpu]\u001b[0m - AttributeError: module 'needle.backend_ndarray.ndarray_backend_cpu' has no attribute 'matmul'\n",
            "\u001b[31mFAILED\u001b[0m tests/hw3/test_ndarray.py::\u001b[1mtest_matmul[72-73-74-cpu]\u001b[0m - AttributeError: module 'needle.backend_ndarray.ndarray_backend_cpu' has no attribute 'matmul'\n",
            "\u001b[31mFAILED\u001b[0m tests/hw3/test_ndarray.py::\u001b[1mtest_matmul[74-73-72-cpu]\u001b[0m - AttributeError: module 'needle.backend_ndarray.ndarray_backend_cpu' has no attribute 'matmul'\n",
            "\u001b[31mFAILED\u001b[0m tests/hw3/test_ndarray.py::\u001b[1mtest_matmul[128-128-128-cpu]\u001b[0m - AttributeError: module 'needle.backend_ndarray.ndarray_backend_cpu' has no attribute 'matmul'\n",
            "\u001b[31m================================ \u001b[31m\u001b[1m10 failed\u001b[0m, \u001b[33m126 deselected\u001b[0m\u001b[31m in 0.91s\u001b[0m\u001b[31m ================================\u001b[0m\n"
          ]
        }
      ],
      "source": [
        "!python3 -m pytest -v -k \"matmul and cpu\""
      ],
      "id": "28771449"
    },
    {
      "cell_type": "code",
      "execution_count": null,
      "metadata": {
        "id": "5e0a7443"
      },
      "outputs": [],
      "source": [
        "!python3 -m mugrade submit \"YOUR KEY HERE\" -k \"ndarray_cpu_matmul\""
      ],
      "id": "5e0a7443"
    },
    {
      "cell_type": "code",
      "execution_count": null,
      "metadata": {
        "id": "0d3e131e"
      },
      "outputs": [],
      "source": [
        "# !export CXX=/usr/bin/clang++ && make"
      ],
      "id": "0d3e131e"
    },
    {
      "cell_type": "markdown",
      "metadata": {
        "id": "c44486db"
      },
      "source": [
        "## Part 6: CUDA Backend - Compact and setitem\n",
        "\n",
        "Implement the following functions in `ndarray_backend_cuda.cu`:\n",
        "* `Compact()`\n",
        "* `EwiseSetitem()`\n",
        "* `ScalarSetitem()`\n",
        "\n",
        "\n",
        "For this portion, you'll implement the compact and setitem calls in the CUDA backend.  This is fairly similar to the C++ version, however, depending on how you implemented that function, there could also be some substantial differences.  We specifically want to highlight a few differences between the C++ and the CUDA implementations, however.\n",
        "\n",
        "First, as with the example functions implemented in the CUDA backend code, for all the functions above you will actually want to implement two functions: the basic functions listed above that you will call from Python, and the corresponding CUDA kernels that will actually perform the computation.  For the most part, we only provide the prototype for the \"base\" function in the `ndarray_backend_cuda.cu` file, and you will need to define and implement the kernel function yourself.  However, to see how these work, for the `Compact()` call we are providing you with the _complete_ `Compact()` call, and the function prototype for the `CompactKernel()` call.\n",
        "\n",
        "One thing you may notice is the seemingly odd use of a `CudaVec` struct, which is a struct used to pass shape/stride parameters.  In the C++ version we used the STL `std::vector` variables to store these inputs (and the same is done in the base `Compact()` call, but CUDA kernels cannot operation on STL vectors, so something else is needed).  Furthermore, although we _could_ convert the vectors to normal CUDA arrays, this would be rather cumbersome, as we would need to call `cudaMalloc()`, pass the parameters as integer pointers, then free them after the calls.  Of course such memory management is needed for the actual underlying data in the array, but it seems like overkill to do it for just passing a variable-sized small tuple of shape/stride values.  The solution is to create a struct that has a \"maximize\" size for the number of dimensions an array can have, and then just store the actual shape/stride data in the first entries of these fields.  This is all done by the included `CudaVec` struct and `VecToCuda()` function, and you can just use these as provided for all the CUDA kernels that require passing shape/strides to the kernel itself.\n",
        "\n",
        "The other (more conceptual) big difference between the C++ and CUDA implementations of `Compact()` is that in C++ you will typically loop over the elements of the non-compact array sequentially, which allows you to perform some optimizations with respect to computing the corresponding indices between the compact and non-compact arrays.  In CUDA, you cannot do this, and will need to implement code that can directly map from an index in the compact array to one in the strided array.\n",
        "\n",
        "As before, we recommend you implement your code in such as way that it can easily be re-used between the `Compact()`, and `Setitem()` calls.  As a short note, remember that if you want to call a (separate, non-kernel) function from kernel code, you need to define it as a `__device__` function.\n"
      ],
      "id": "c44486db"
    },
    {
      "cell_type": "code",
      "execution_count": null,
      "metadata": {
        "id": "480d127f"
      },
      "outputs": [],
      "source": [
        "!python3 -m pytest -v -k \"(compact or setitem) and cuda\""
      ],
      "id": "480d127f"
    },
    {
      "cell_type": "code",
      "execution_count": null,
      "metadata": {
        "id": "98a83634"
      },
      "outputs": [],
      "source": [
        "!python3 -m mugrade submit \"YOUR KEY HERE\" -k \"ndarray_cuda_compact_setitem\""
      ],
      "id": "98a83634"
    },
    {
      "cell_type": "markdown",
      "metadata": {
        "id": "7aa2a94a"
      },
      "source": [
        "## Part 7: CUDA Backend - Elementwise and scalar operations\n",
        "\n",
        "Implement the following functions in `ndarray_backend_cuda.cu`:\n",
        "\n",
        "* `EwiseMul()`, `ScalarMul()`\n",
        "* `EwiseDiv()`, `ScalarDiv()`\n",
        "* `ScalarPower()`\n",
        "* `EwiseMaximum()`, `ScalarMaximum()`\n",
        "* `EwiseEq()`, `ScalarEq()`\n",
        "* `EwiseGe()`, `ScalarGe()`\n",
        "* `EwiseLog()`\n",
        "* `EwiseExp()`\n",
        "* `EwiseTanh()`\n",
        "\n",
        "Again, we don't provide these function prototypes, and you're welcome to use C++ templates or macros to make this implementation more compact.  You will also want to uncomment the appropriate regions of the Pybind11 code once you've implemented each function."
      ],
      "id": "7aa2a94a"
    },
    {
      "cell_type": "code",
      "execution_count": null,
      "metadata": {
        "id": "ee2d6dd8"
      },
      "outputs": [],
      "source": [
        "!python3 -m pytest -v -k \"(ewise_fn or ewise_max or log or exp or tanh or (scalar and not setitem)) and cuda\""
      ],
      "id": "ee2d6dd8"
    },
    {
      "cell_type": "code",
      "execution_count": null,
      "metadata": {
        "id": "db80e3fa"
      },
      "outputs": [],
      "source": [
        "!python3 -m mugrade submit \"YOUR KEY HERE\" -k \"ndarray_cuda_ops\""
      ],
      "id": "db80e3fa"
    },
    {
      "cell_type": "markdown",
      "metadata": {
        "id": "9b7de79b"
      },
      "source": [
        "## Part 8: CUDA Backend - Reductions\n",
        "\n",
        "\n",
        "Implement the following functions in `ndarray_backend_cuda.cu`:\n",
        "\n",
        "* `ReduceMax()`\n",
        "* `ReduceSum()`\n",
        "\n",
        "You can take a fairly simplistic approach here, and just use a separate CUDA thread for each individual reduction item: i.e., if there is a 100 x 20 array you are reducing over the second dimension, you could have 100 threads, each of which individually processed its own 20-dimensional array..  This is particularly inefficient for the `.max(axis=None)` calls, but we won't worry about this for the time being.  If you want a more industrial-grade implementation, you use a hierarchical mechanism that first aggregated across some smaller span, then had a secondary function that aggregated across _these_ reduced arrays, etc.  But this is not needed to pass the tests."
      ],
      "id": "9b7de79b"
    },
    {
      "cell_type": "code",
      "execution_count": null,
      "metadata": {
        "id": "10239c84"
      },
      "outputs": [],
      "source": [
        "!python3 -m pytest -v -k \"reduce and cuda\""
      ],
      "id": "10239c84"
    },
    {
      "cell_type": "code",
      "execution_count": null,
      "metadata": {
        "id": "0f75df69"
      },
      "outputs": [],
      "source": [
        "!python3 -m mugrade submit \"YOUR KEY HERE\" -k \"ndarray_cuda_reductions\""
      ],
      "id": "0f75df69"
    },
    {
      "cell_type": "markdown",
      "metadata": {
        "id": "01027bb7"
      },
      "source": [
        "## Part 9: CUDA Backend - Matrix multiplication\n",
        "\n",
        "Implement the following functions in `ndarray_backend_cuda.cu`:\n",
        "\n",
        "* `Matmul()`\n",
        "\n",
        "Finally, as your final exercise, you'll implement matrix multiplication on the GPU.  Your implementation here can roughly follow the presentation in class.  While you can pass the tests using fairly naive code here (i.e., you could just have a separate thread for each (i,j) location in the matrix, doing the matrix multiplication efficiently (to make it actually faster than a CPU version) requires cooperative fetching and the block shared memory register tiling covered in class.  Try to implement using these methods, and see how much faster you can get your code than the C++ (or numpy) backends.\n"
      ],
      "id": "01027bb7"
    },
    {
      "cell_type": "code",
      "execution_count": null,
      "metadata": {
        "id": "aa7b46d6"
      },
      "outputs": [],
      "source": [
        "!python3 -m pytest -v -k \"matmul and cuda\""
      ],
      "id": "aa7b46d6"
    },
    {
      "cell_type": "code",
      "execution_count": null,
      "metadata": {
        "id": "3ae22cf2"
      },
      "outputs": [],
      "source": [
        "!python3 -m mugrade submit \"YOUR KEY HERE\" -k \"ndarray_cuda_matmul\""
      ],
      "id": "3ae22cf2"
    }
  ],
  "metadata": {
    "colab": {
      "provenance": [],
      "gpuType": "A100",
      "include_colab_link": true
    },
    "kernelspec": {
      "display_name": "Python 3",
      "name": "python3"
    },
    "language_info": {
      "codemirror_mode": {
        "name": "ipython",
        "version": 3
      },
      "file_extension": ".py",
      "mimetype": "text/x-python",
      "name": "python",
      "nbconvert_exporter": "python",
      "pygments_lexer": "ipython3",
      "version": "3.8.10"
    },
    "vscode": {
      "interpreter": {
        "hash": "916dbcbb3f70747c44a77c7bcd40155683ae19c65e1c03b4aa3499c5328201f1"
      }
    },
    "accelerator": "GPU"
  },
  "nbformat": 4,
  "nbformat_minor": 5
}